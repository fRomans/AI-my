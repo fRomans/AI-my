{
 "cells": [
  {
   "cell_type": "code",
   "execution_count": null,
   "id": "initial_id",
   "metadata": {
    "collapsed": true
   },
   "outputs": [],
   "source": [
    "#Вот вам шаблон кода SteamLit для старта \n",
    "# dataset в файле KnowledgeBase4FewShot\n",
    "import streamlit as st\n",
    "from audiorecorder import audiorecorder\n",
    "\n",
    "st.title(\"Streamlit + LLM\")\n",
    "st.caption(\"🚀 Dodo AI\")\n",
    "\n",
    "with st.sidebar:\n",
    "    openai_api_key = st.text_input(\"OpenAI API Key\", key=\"chatbot_api_key\", type=\"password\")\n",
    "    \"[Get an OpenAI API key](https://platform.openai.com/account/api-keys)\"\n",
    "\n",
    "def generate_response(input_text):\n",
    "    st.info(input_text)\n",
    "    # llm = OpenAI(temperature=0.7, openai_api_key=openai_api_key)\n",
    "    # st.info(llm(input_text))\n",
    "\n",
    "with st.form('my_form'):\n",
    "    text = st.text_area('Enter text:', 'What are the three key pieces of advice for learning how to code?')\n",
    "    submitted = st.form_submit_button('Submit')\n",
    "    if not openai_api_key.startswith('sk-'):\n",
    "        st.warning('Please enter your OpenAI API key!', icon='⚠')\n",
    "    if submitted and openai_api_key.startswith('sk-'):\n",
    "        generate_response(text)\n",
    "\n",
    "audio = audiorecorder(\"\", \"\")\n",
    "\n",
    "if len(audio) > 0:\n",
    "    # To play audio in frontend:\n",
    "    st.audio(audio.export().read())  \n",
    "\n",
    "    # To save audio to a file, use pydub export method:\n",
    "    audio.export(\"audio.wav\", format=\"wav\")\n",
    "\n",
    "    # To get audio properties, use pydub AudioSegment properties:\n",
    "    st.write(f\"Frame rate: {audio.frame_rate}, Frame width: {audio.frame_width}, Duration: {audio.duration_seconds} seconds\")"
   ]
  }
 ],
 "metadata": {
  "kernelspec": {
   "display_name": "Python 3",
   "language": "python",
   "name": "python3"
  },
  "language_info": {
   "codemirror_mode": {
    "name": "ipython",
    "version": 2
   },
   "file_extension": ".py",
   "mimetype": "text/x-python",
   "name": "python",
   "nbconvert_exporter": "python",
   "pygments_lexer": "ipython2",
   "version": "2.7.6"
  }
 },
 "nbformat": 4,
 "nbformat_minor": 5
}
