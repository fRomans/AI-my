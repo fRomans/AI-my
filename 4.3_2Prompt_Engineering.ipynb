{
 "cells": [
  {
   "cell_type": "code",
   "execution_count": null,
   "id": "initial_id",
   "metadata": {
    "collapsed": true
   },
   "outputs": [],
   "source": [
    "from utils import ChatOpenAI\n",
    "from getpass import getpass\n",
    "\n",
    "#course_api_key= \"Введите ваш API ключ, полученный в боте курса\"\n",
    "course_api_key = getpass(prompt='Введите ваш API ключ, полученный в боте курса')\n",
    "\n",
    "# инициализируем языковую модель\n",
    "llm = ChatOpenAI(temperature=0.0, course_api_key=course_api_key)\n",
    "\n",
    "\n",
    "\n",
    "# Подгрузим датасет\n",
    "\n",
    "\n",
    "import pandas as pd\n",
    "from tqdm import tqdm\n",
    "\n",
    "df = pd.read_csv(\"https://stepik.org/media/attachments/lesson/1282589/math_pal.csv\")\n",
    "\n",
    "\n",
    "# импортируйте PALChain из langchain_experimental и создайте цепь\n",
    "from langchain_experimental.pal_chain.base import PALChain\n",
    "\n",
    "pal_chain = PALChain.from_math_prompt(llm, allow_dangerous_code=True, verbose=True)\n",
    "\n",
    "\n",
    "answers = [] # Список, где будем хранить ответы модели\n",
    "\n",
    "for text_input in tqdm(df['task']):\n",
    "\n",
    "# далее будем подавать в инпут значение числа \"пи\", чтобы избежать импортов библиотеки math\n",
    "# также на выходе мы хотим получать число, а не строку\n",
    "\n",
    "    answer = # ваш код\n",
    "\n",
    "    answers.append(answer)\n",
    "\n",
    "\n",
    "    #break # Для отладки. Уберите, когда убедитесь, что на одном примере работает\n",
    "\n",
    "df['answer'] = answers # запишем предсказания в датафрейм\n",
    "\n",
    "df[['task', 'answer']].to_csv(\"5.6.7_solution.csv\", index=False) # сохраним решение в csv"
   ]
  }
 ],
 "metadata": {
  "kernelspec": {
   "display_name": "Python 3",
   "language": "python",
   "name": "python3"
  },
  "language_info": {
   "codemirror_mode": {
    "name": "ipython",
    "version": 2
   },
   "file_extension": ".py",
   "mimetype": "text/x-python",
   "name": "python",
   "nbconvert_exporter": "python",
   "pygments_lexer": "ipython2",
   "version": "2.7.6"
  }
 },
 "nbformat": 4,
 "nbformat_minor": 5
}
