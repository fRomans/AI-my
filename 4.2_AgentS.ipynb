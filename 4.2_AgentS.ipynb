{
 "cells": [
  {
   "cell_type": "code",
   "id": "initial_id",
   "metadata": {
    "collapsed": true,
    "ExecuteTime": {
     "end_time": "2025-04-21T13:33:19.369906Z",
     "start_time": "2025-04-21T13:33:08.278575Z"
    }
   },
   "source": [
    "from utils import ChatOpenAI\n",
    "from getpass import getpass\n",
    "\n",
    "#course_api_key= \"Введите ваш API ключ с курса\"\n",
    "course_api_key = getpass(prompt='Введите API ключ')\n",
    "\n",
    "# Инициализируем языковую модель\n",
    "llm = ChatOpenAI(temperature=0.0, course_api_key=course_api_key)"
   ],
   "outputs": [],
   "execution_count": 1
  },
  {
   "metadata": {
    "ExecuteTime": {
     "end_time": "2025-04-21T13:33:29.277894Z",
     "start_time": "2025-04-21T13:33:28.378815Z"
    }
   },
   "cell_type": "code",
   "source": [
    "from langchain.document_loaders import WebBaseLoader\n",
    "\n",
    "# ссылка на страницу из Википедии про Ганнибала\n",
    "url = \"https://ru.wikipedia.org/wiki/%D0%93%D0%B0%D0%BD%D0%BD%D0%B8%D0%B1%D0%B0%D0%BB,_%D0%90%D0%B1%D1%80%D0%B0%D0%BC_%D0%9F%D0%B5%D1%82%D1%80%D0%BE%D0%B2%D0%B8%D1%87\"\n",
    "\n",
    "# Определите лоадер\n",
    "loader = WebBaseLoader(url)\n",
    "data = loader.load()"
   ],
   "id": "86b50195a44f239c",
   "outputs": [],
   "execution_count": 3
  },
  {
   "metadata": {
    "ExecuteTime": {
     "end_time": "2025-04-21T14:42:57.757499Z",
     "start_time": "2025-04-21T14:42:46.087016Z"
    }
   },
   "cell_type": "code",
   "source": [
    "from langchain_community.vectorstores import FAISS\n",
    "from langchain_text_splitters import RecursiveCharacterTextSplitter\n",
    "from utils import OpenAIEmbeddings\n",
    "from langchain.embeddings import HuggingFaceEmbeddings\n",
    "\n",
    "text_splitter = RecursiveCharacterTextSplitter(chunk_size=1000, chunk_overlap=0)\n",
    "texts = text_splitter.split_documents(data)\n",
    "from langchain.embeddings import HuggingFaceEmbeddings\n",
    "\n",
    "# Если у вас нет видеокарты, укажите 'device': 'cpu'                                          или cuda - если через видеокарту\n",
    "hf_embeddings_model = HuggingFaceEmbeddings(\n",
    "    model_name=\"cointegrated/LaBSE-en-ru\", model_kwargs={\"device\": \"cpu\"}\n",
    ")\n",
    "db_embed = FAISS.from_documents(texts, hf_embeddings_model)\n",
    "\n",
    "# retriever = db_embed.as_retriever()"
   ],
   "id": "614048978e8f84f4",
   "outputs": [],
   "execution_count": 27
  },
  {
   "metadata": {
    "ExecuteTime": {
     "end_time": "2025-04-21T14:00:53.200765Z",
     "start_time": "2025-04-21T14:00:53.185760Z"
    }
   },
   "cell_type": "code",
   "source": [
    "                             #  1 вариант retriever(извлечение)\n",
    "#  Самый частый кейс - использование векторного хранилища и его методов для получения документов\n",
    "retriever = db_embed.as_retriever(\n",
    "    search_type=\"similarity\",  # тип поиска похожих документов\n",
    "    k=5,  # количество возвращаемых документов (Default: 4)\n",
    "    score_threshold=None,  # минимальный порог для поиска \"similarity_score_threshold\"\n",
    ")\n",
    "                              #  2 вариант retriever(извлечение)\n",
    "from langchain.retrievers import BM25Retriever, EnsembleRetriever\n",
    "\n",
    "# Попробуем BM25 - алгоритм поиска по ключевым словам. Может искать лучше, но не поймёт запрос на другом языке.\n",
    "# Также не сможет искать, если запрос на обывательском языке, а документы на профессиональном\n",
    "bm25 = BM25Retriever.from_documents(texts[:70])  # Эмбеддинги ему не нужны\n",
    "bm25.k = 5  # Так можно задать количество возвращаемых документов\n",
    "\n",
    "\n",
    "                           #  3 вариант retriever(извлечение) Объединяем bm25 и retriever (первый и второй вариант)\n",
    "from langchain.retrievers import BM25Retriever, EnsembleRetriever\n",
    "# Если один ретривер плохо справляется, то можно использовать целый ансамбль и даже каждому вес назначить\n",
    "ensemble_retriever = EnsembleRetriever(\n",
    "    retrievers=[bm25, retriever],  # список ретриверов\n",
    "    weights=[\n",
    "        0.3,\n",
    "        0.7,\n",
    "    ],  # веса, на которые домножается скор документа от каждого ретривера\n",
    ")"
   ],
   "id": "7d4d2cf1ad496cb1",
   "outputs": [],
   "execution_count": 25
  },
  {
   "metadata": {
    "ExecuteTime": {
     "end_time": "2025-04-21T14:00:56.804426Z",
     "start_time": "2025-04-21T14:00:56.793426Z"
    }
   },
   "cell_type": "code",
   "source": [
    "from langchain.tools.retriever import create_retriever_tool\n",
    "from langchain.agents import create_self_ask_with_search_agent, Tool\n",
    "from langchain_community.utilities import SerpAPIWrapper\n",
    "\n",
    "tool = create_retriever_tool(\n",
    "    ensemble_retriever, # наш ретривер\n",
    "    \"search_web\", # имя инструмента\n",
    "    \"Searches and returns data from page\", # описание инструмента подается в ЛЛМ\n",
    ")\n",
    "\n",
    "\n",
    "\n",
    "tools = [tool]"
   ],
   "id": "e3bd4dc05477362c",
   "outputs": [],
   "execution_count": 26
  },
  {
   "metadata": {
    "ExecuteTime": {
     "end_time": "2025-04-21T14:52:02.537065Z",
     "start_time": "2025-04-21T14:52:02.249548Z"
    }
   },
   "cell_type": "code",
   "source": [
    "from langchain import hub\n",
    "\n",
    "prompt = hub.pull(\"hwchase17/react\")   # hwchase17/react или hwchase17/openai-tools-agent\n",
    "# \"\"\"Please ensure that your response does not exceed 70 characters. And respond in Russian language.\"\"\" -добавляю чтобы ответ был меньше 70 символов\n",
    "prompt += \"\"\"Please ensure that your response does not exceed 70 characters. And respond in Russian language.\"\"\"\n",
    "print(prompt)"
   ],
   "id": "c39e1d92d9976d59",
   "outputs": [
    {
     "name": "stderr",
     "output_type": "stream",
     "text": [
      "C:\\Users\\fRomanSt\\AppData\\Local\\Programs\\Python\\Python39\\lib\\site-packages\\langsmith\\client.py:256: LangSmithMissingAPIKeyWarning: API key must be provided when using hosted LangSmith API\n",
      "  warnings.warn(\n"
     ]
    },
    {
     "name": "stdout",
     "output_type": "stream",
     "text": [
      "input_variables=['agent_scratchpad', 'input', 'tool_names', 'tools'] input_types={} partial_variables={} template='Answer the following questions as best you can. You have access to the following tools:\\n\\n{tools}\\n\\nUse the following format:\\n\\nQuestion: the input question you must answer\\nThought: you should always think about what to do\\nAction: the action to take, should be one of [{tool_names}]\\nAction Input: the input to the action\\nObservation: the result of the action\\n... (this Thought/Action/Action Input/Observation can repeat N times)\\nThought: I now know the final answer\\nFinal Answer: the final answer to the original input question\\n\\nBegin!\\n\\nQuestion: {input}\\nThought:{agent_scratchpad}Please ensure that your response does not exceed 70 characters. And respond in Russian language.'\n"
     ]
    }
   ],
   "execution_count": 35
  },
  {
   "metadata": {
    "ExecuteTime": {
     "end_time": "2025-04-21T14:52:12.529935Z",
     "start_time": "2025-04-21T14:52:12.516936Z"
    }
   },
   "cell_type": "code",
   "source": [
    "from langchain.agents import create_react_agent\n",
    "from langchain.agents import create_openai_tools_agent\n",
    "from langchain.agents.agent import AgentExecutor\n",
    "\n",
    "\n",
    "agent = create_react_agent(llm, tools, prompt)\n",
    "agent_executor = AgentExecutor(agent=agent, tools=tools, handle_parsing_errors=True)"
   ],
   "id": "843ced1f19c8401",
   "outputs": [],
   "execution_count": 36
  },
  {
   "metadata": {
    "ExecuteTime": {
     "end_time": "2025-04-21T14:52:14.951228Z",
     "start_time": "2025-04-21T14:52:14.871137Z"
    }
   },
   "cell_type": "code",
   "source": [
    "import pandas as pd\n",
    "from tqdm import tqdm\n",
    "\n",
    "# Загружаем датасет с вопросами про Ганнибала\n",
    "df = pd.read_csv(\"https://stepik.org/media/attachments/lesson/1107866/gannibal.csv\")\n"
   ],
   "id": "ecd75a846f83e503",
   "outputs": [],
   "execution_count": 37
  },
  {
   "metadata": {
    "ExecuteTime": {
     "end_time": "2025-04-21T14:52:38.913828Z",
     "start_time": "2025-04-21T14:52:16.729266Z"
    }
   },
   "cell_type": "code",
   "source": [
    "answers = [] # Список, где будем хранить ответы модели\n",
    "\n",
    "for text_input in tqdm(df['question']):\n",
    "    answer = agent_executor.invoke({\"input\": text_input})     ###  Получим ответ от агента\n",
    "    answers.append(answer['output']) # Добавляем ответ в список\n",
    "    # break # Для отладки. Уберите, когда убедитесь, что на одном примере работает"
   ],
   "id": "c8701e8f0ad589e0",
   "outputs": [
    {
     "name": "stderr",
     "output_type": "stream",
     "text": [
      "100%|██████████| 10/10 [00:22<00:00,  2.22s/it]\n"
     ]
    }
   ],
   "execution_count": 38
  },
  {
   "metadata": {
    "ExecuteTime": {
     "end_time": "2025-04-21T14:52:41.966299Z",
     "start_time": "2025-04-21T14:52:41.957300Z"
    }
   },
   "cell_type": "code",
   "source": "print(answers)\n",
   "id": "48bd8d09d9d61def",
   "outputs": [
    {
     "name": "stdout",
     "output_type": "stream",
     "text": [
      "['Евдокия Андреевна Диопер', 'Да.', '85', '1727', 'Он был ранен в голову во время Войны четверного альянса.', '100 рублей в год.', 'Со Швецией.', 'Генерал-аншеф.', 'Христина-Регина фон Шёберг.', '7']\n"
     ]
    }
   ],
   "execution_count": 39
  },
  {
   "metadata": {
    "ExecuteTime": {
     "end_time": "2025-04-21T14:52:59.852910Z",
     "start_time": "2025-04-21T14:52:59.843882Z"
    }
   },
   "cell_type": "code",
   "source": "df['answer'] = answers # Создаём новый столбец из ответов модели",
   "id": "b5ad9622bcfdb2cc",
   "outputs": [],
   "execution_count": 40
  },
  {
   "metadata": {
    "ExecuteTime": {
     "end_time": "2025-04-21T14:53:43.512518Z",
     "start_time": "2025-04-21T14:53:43.490506Z"
    }
   },
   "cell_type": "code",
   "source": [
    "df.to_csv('step6_solution.csv', index=False) # Сохраняем файл\n",
    "df"
   ],
   "id": "50d8923d1258a42",
   "outputs": [
    {
     "data": {
      "text/plain": [
       "                                            question  \\\n",
       "0  На ком в начале 1731 года Абрам Ганнибал женил...   \n",
       "1  Является ли А.С. Пушкин сыном Абрама Ганнибала...   \n",
       "2  Сколько лет прожил Абрам Ганнибал? Ответ дайте...   \n",
       "3  В каком году Абрам Ганнибал был отправлен в Си...   \n",
       "4  Куда был ранен Абрам Ганнибал участвуя в Войне...   \n",
       "5  Какой размер жалования Абрам Ганнибал получал ...   \n",
       "6  Разграничением земель с какой страной в 1745 г...   \n",
       "7  В каком звании Абрам Ганнибал был отправлен в ...   \n",
       "8            Как звали вторую жену Абрама Ганнибала?   \n",
       "9  Сколько всего детей Абрама Ганнибала дожили до...   \n",
       "\n",
       "                                              answer  \n",
       "0                           Евдокия Андреевна Диопер  \n",
       "1                                                Да.  \n",
       "2                                                 85  \n",
       "3                                               1727  \n",
       "4  Он был ранен в голову во время Войны четверног...  \n",
       "5                                  100 рублей в год.  \n",
       "6                                        Со Швецией.  \n",
       "7                                     Генерал-аншеф.  \n",
       "8                        Христина-Регина фон Шёберг.  \n",
       "9                                                  7  "
      ],
      "text/html": [
       "<div>\n",
       "<style scoped>\n",
       "    .dataframe tbody tr th:only-of-type {\n",
       "        vertical-align: middle;\n",
       "    }\n",
       "\n",
       "    .dataframe tbody tr th {\n",
       "        vertical-align: top;\n",
       "    }\n",
       "\n",
       "    .dataframe thead th {\n",
       "        text-align: right;\n",
       "    }\n",
       "</style>\n",
       "<table border=\"1\" class=\"dataframe\">\n",
       "  <thead>\n",
       "    <tr style=\"text-align: right;\">\n",
       "      <th></th>\n",
       "      <th>question</th>\n",
       "      <th>answer</th>\n",
       "    </tr>\n",
       "  </thead>\n",
       "  <tbody>\n",
       "    <tr>\n",
       "      <th>0</th>\n",
       "      <td>На ком в начале 1731 года Абрам Ганнибал женил...</td>\n",
       "      <td>Евдокия Андреевна Диопер</td>\n",
       "    </tr>\n",
       "    <tr>\n",
       "      <th>1</th>\n",
       "      <td>Является ли А.С. Пушкин сыном Абрама Ганнибала...</td>\n",
       "      <td>Да.</td>\n",
       "    </tr>\n",
       "    <tr>\n",
       "      <th>2</th>\n",
       "      <td>Сколько лет прожил Абрам Ганнибал? Ответ дайте...</td>\n",
       "      <td>85</td>\n",
       "    </tr>\n",
       "    <tr>\n",
       "      <th>3</th>\n",
       "      <td>В каком году Абрам Ганнибал был отправлен в Си...</td>\n",
       "      <td>1727</td>\n",
       "    </tr>\n",
       "    <tr>\n",
       "      <th>4</th>\n",
       "      <td>Куда был ранен Абрам Ганнибал участвуя в Войне...</td>\n",
       "      <td>Он был ранен в голову во время Войны четверног...</td>\n",
       "    </tr>\n",
       "    <tr>\n",
       "      <th>5</th>\n",
       "      <td>Какой размер жалования Абрам Ганнибал получал ...</td>\n",
       "      <td>100 рублей в год.</td>\n",
       "    </tr>\n",
       "    <tr>\n",
       "      <th>6</th>\n",
       "      <td>Разграничением земель с какой страной в 1745 г...</td>\n",
       "      <td>Со Швецией.</td>\n",
       "    </tr>\n",
       "    <tr>\n",
       "      <th>7</th>\n",
       "      <td>В каком звании Абрам Ганнибал был отправлен в ...</td>\n",
       "      <td>Генерал-аншеф.</td>\n",
       "    </tr>\n",
       "    <tr>\n",
       "      <th>8</th>\n",
       "      <td>Как звали вторую жену Абрама Ганнибала?</td>\n",
       "      <td>Христина-Регина фон Шёберг.</td>\n",
       "    </tr>\n",
       "    <tr>\n",
       "      <th>9</th>\n",
       "      <td>Сколько всего детей Абрама Ганнибала дожили до...</td>\n",
       "      <td>7</td>\n",
       "    </tr>\n",
       "  </tbody>\n",
       "</table>\n",
       "</div>"
      ]
     },
     "execution_count": 42,
     "metadata": {},
     "output_type": "execute_result"
    }
   ],
   "execution_count": 42
  }
 ],
 "metadata": {
  "kernelspec": {
   "display_name": "Python 3",
   "language": "python",
   "name": "python3"
  },
  "language_info": {
   "codemirror_mode": {
    "name": "ipython",
    "version": 2
   },
   "file_extension": ".py",
   "mimetype": "text/x-python",
   "name": "python",
   "nbconvert_exporter": "python",
   "pygments_lexer": "ipython2",
   "version": "2.7.6"
  }
 },
 "nbformat": 4,
 "nbformat_minor": 5
}
