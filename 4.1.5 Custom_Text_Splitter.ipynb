{
 "cells": [
  {
   "cell_type": "code",
   "execution_count": null,
   "id": "initial_id",
   "metadata": {
    "collapsed": true
   },
   "outputs": [],
   "source": [
    "from utils import ChatOpenAI\n",
    "from getpass import getpass\n",
    "\n",
    "#course_api_key= \"Введите ваш API ключ с курса\"\n",
    "course_api_key = getpass(prompt='Введите API ключ')\n",
    "\n",
    "# Инициализируем языковую модель\n",
    "llm = ChatOpenAI(temperature=0.0, course_api_key=course_api_key)"
   ]
  },
  {
   "metadata": {
    "ExecuteTime": {
     "end_time": "2025-04-27T10:25:33.150289Z",
     "start_time": "2025-04-27T10:25:33.128292Z"
    }
   },
   "cell_type": "code",
   "source": [
    "text1 = \"\"\"\n",
    "1. Вступление\n",
    "Описание курса, начальные требования, для кого этот курс.\n",
    "1.1 Как правильно входить в курс\n",
    "Цели курса, канал и комьюнити, глоссарий, PET-проект, хард режим vs лайт режим?\n",
    "1.2 Общий подход и точки улучшения приложений с LLM\n",
    "Рассказываем почему важно разбираться в LLM. Нужен ли ИИ обычному человеку?\n",
    "1.3 API ключ курса или от OpenAI?\n",
    "1.3.1 Ключ от команды курса\n",
    "Получаем ключ в боте.\n",
    "1.3.2 Ключ от OpenAI\n",
    "Получаем официальный ключ от OpenAI.\n",
    "1.3.3 Ключ от HuggingFace\n",
    "Ныряем в Open Source и получаем ключ от HuggingFace.\n",
    "2. Промптинг - объясни LLM, что тебе от неё надо!\n",
    "2.1 Введение в Prompt Engineering\n",
    "Поясняем за промпты. Техники и лайфхаки для промптинга. Из чего состоит промпт?\n",
    "2.2 Дизайн промптов в LangChain\n",
    "Few-shot learning. Output Parser.\n",
    "2.2.1 Введение в LangChain\n",
    "Рассказываем про преимущества LangChain.\n",
    "3. LangChain или причем тут попугаи?\n",
    "3.1 Память в LangChain\n",
    "Переводим LLM в чат-режим. Типы памяти.\n",
    "3.2 Chains - собери свою цепь\n",
    "Chains & LCEL.\n",
    "3.3 Агенты intro\n",
    "Агенты и цепи. Инструменты (tools).\n",
    "\"\"\"\n",
    "\n",
    "text2 = \"\"\"\n",
    "\n",
    "\n",
    "\"\"\"\n",
    "\n",
    "text3 = \"\"\"\n",
    "1. Главный заголовок\n",
    "Тут содержимое, которое нужно достать из главного заголовка.\n",
    "1.1 Подзаголовок\n",
    "Тут содержимое, которое нужно достать из подзаголовка.\n",
    "\"\"\"\n",
    "\n",
    "text4 = \"\"\"\n",
    "1. Первый заголовок\n",
    "\n",
    "2. Второй заголовок\n",
    "\"\"\"\n",
    "\n",
    "text5 = \"\"\"\n",
    "1. Введение\n",
    "Краткое описание целей и задач документа.\n",
    "\n",
    "2. Основные разделы\n",
    "Краткий обзор основных разделов.\n",
    "\n",
    "2.1 Первый подраздел\n",
    "Какие-то мелкие детали.\n",
    "\n",
    "3. Заключение\n",
    "Выводы и заключительные комментарии.\n",
    "4. Приложения\n",
    "Дополнительная информация и материалы.\n",
    "\"\"\""
   ],
   "id": "5b30b8eb86a31d06",
   "outputs": [],
   "execution_count": 1
  },
  {
   "metadata": {
    "ExecuteTime": {
     "end_time": "2025-04-27T10:25:56.863263Z",
     "start_time": "2025-04-27T10:25:56.851241Z"
    }
   },
   "cell_type": "code",
   "source": "print(text1)",
   "id": "66d1c655ba772227",
   "outputs": [
    {
     "name": "stdout",
     "output_type": "stream",
     "text": [
      "\n",
      "1. Вступление\n",
      "Описание курса, начальные требования, для кого этот курс.\n",
      "1.1 Как правильно входить в курс\n",
      "Цели курса, канал и комьюнити, глоссарий, PET-проект, хард режим vs лайт режим?\n",
      "1.2 Общий подход и точки улучшения приложений с LLM\n",
      "Рассказываем почему важно разбираться в LLM. Нужен ли ИИ обычному человеку?\n",
      "1.3 API ключ курса или от OpenAI?\n",
      "1.3.1 Ключ от команды курса\n",
      "Получаем ключ в боте.\n",
      "1.3.2 Ключ от OpenAI\n",
      "Получаем официальный ключ от OpenAI.\n",
      "1.3.3 Ключ от HuggingFace\n",
      "Ныряем в Open Source и получаем ключ от HuggingFace.\n",
      "2. Промптинг - объясни LLM, что тебе от неё надо!\n",
      "2.1 Введение в Prompt Engineering\n",
      "Поясняем за промпты. Техники и лайфхаки для промптинга. Из чего состоит промпт?\n",
      "2.2 Дизайн промптов в LangChain\n",
      "Few-shot learning. Output Parser.\n",
      "2.2.1 Введение в LangChain\n",
      "Рассказываем про преимущества LangChain.\n",
      "3. LangChain или причем тут попугаи?\n",
      "3.1 Память в LangChain\n",
      "Переводим LLM в чат-режим. Типы памяти.\n",
      "3.2 Chains - собери свою цепь\n",
      "Chains & LCEL.\n",
      "3.3 Агенты intro\n",
      "Агенты и цепи. Инструменты (tools).\n",
      "\n"
     ]
    }
   ],
   "execution_count": 2
  },
  {
   "metadata": {
    "ExecuteTime": {
     "end_time": "2025-04-27T12:08:26.159451Z",
     "start_time": "2025-04-27T12:08:26.153423Z"
    }
   },
   "cell_type": "code",
   "source": [
    "text1 = \"\"\"\n",
    "1. Вступление\n",
    "Описание курса, начальные требования, для кого этот курс.\n",
    "1.1 Как правильно входить в курс\n",
    "Цели курса, канал и комьюнити, глоссарий, PET-проект, хард режим vs лайт режим?\n",
    "1.2 Общий подход и точки улучшения приложений с LLM\n",
    "Рассказываем почему важно разбираться в LLM. Нужен ли ИИ обычному человеку?\n",
    "1.3 API ключ курса или от OpenAI?\n",
    "1.3.1 Ключ от команды курса\n",
    "Получаем ключ в боте.\n",
    "1.3.2 Ключ от OpenAI\n",
    "Получаем официальный ключ от OpenAI.\n",
    "1.3.3 Ключ от HuggingFace\n",
    "Ныряем в Open Source и получаем ключ от HuggingFace.\n",
    "2. Промптинг - объясни LLM, что тебе от неё надо!\n",
    "2.1 Введение в Prompt Engineering\n",
    "Поясняем за промпты. Техники и лайфхаки для промптинга. Из чего состоит промпт?\n",
    "2.2 Дизайн промптов в LangChain\n",
    "Few-shot learning. Output Parser.\n",
    "2.2.1 Введение в LangChain\n",
    "Рассказываем про преимущества LangChain.\n",
    "3. LangChain или причем тут попугаи?\n",
    "3.1 Память в LangChain\n",
    "Переводим LLM в чат-режим. Типы памяти.\n",
    "3.2 Chains - собери свою цепь\n",
    "Chains & LCEL.\n",
    "3.3 Агенты intro\n",
    "Агенты и цепи. Инструменты (tools).\n",
    "\"\"\"\n",
    "\n",
    "text2 = \"\"\"\n",
    "\n",
    "\n",
    "\"\"\"\n",
    "\n",
    "text3 = \"\"\"\n",
    "1. Главный заголовок\n",
    "Тут содержимое, которое нужно достать из главного заголовка.\n",
    "1.1 Подзаголовок\n",
    "Тут содержимое, которое нужно достать из подзаголовка.\n",
    "\"\"\"\n",
    "\n",
    "text4 = \"\"\"\n",
    "1. Первый заголовок\n",
    "\n",
    "2. Второй заголовок\n",
    "\"\"\"\n",
    "\n",
    "text5 = \"\"\"\n",
    "1. Введение\n",
    "Краткое описание целей и задач документа.\n",
    "\n",
    "2. Основные разделы\n",
    "Краткий обзор основных разделов.\n",
    "\n",
    "2.1 Первый подраздел\n",
    "Какие-то мелкие детали.\n",
    "\n",
    "3. Заключение\n",
    "Выводы и заключительные комментарии.\n",
    "4. Приложения\n",
    "Дополнительная информация и материалы.\n",
    "\"\"\"\n"
   ],
   "id": "a7b3b3e9b7acefda",
   "outputs": [],
   "execution_count": 23
  },
  {
   "metadata": {
    "ExecuteTime": {
     "end_time": "2025-04-27T12:30:25.161122Z",
     "start_time": "2025-04-27T12:30:25.143122Z"
    }
   },
   "cell_type": "code",
   "source": [
    "import re\n",
    "from typing import List\n",
    "\n",
    "def get_content_from_sections(text: str) -> List[str]:\n",
    "    # Разделяем текст на основные разделы\n",
    "    sections = re.split(r'\\n(?=\\d+\\.\\s)', text)\n",
    "    \n",
    "    # Список для хранения текста из каждого основного раздела\n",
    "    content_list = []\n",
    "    \n",
    "    for section in sections:\n",
    "        # Удаляем строки с заголовками и подзаголовками\n",
    "        content1 = re.sub(r'^\\d+(\\.\\d+)*\\s[^\\n]+', '', section, flags=re.MULTILINE)\n",
    "        \n",
    "        # Удаляем строки, которые начинаются с числа и точки\n",
    "        content = re.sub(r'^\\d+\\.\\s.*', '', content1, flags=re.MULTILINE)\n",
    "        # Удаляем пустые строки и объединяем текст в одну строку\n",
    "        content = ' '.join(line.strip() for line in content.splitlines() if line.strip())\n",
    "        # Добавляем текст в список, если он не пустой\n",
    "        if content:\n",
    "            content_list.append(content)\n",
    "    \n",
    "    return content_list\n",
    "\n",
    "# text_list = [text1, text2, text3, text4, text5]\n",
    "# for object in text_list:\n",
    "#     test_result = get_content_from_sections(object)\n",
    "#     print(test_result)\n",
    "\n",
    "test_result = get_content_from_sections(text1)\n",
    "print(test_result)"
   ],
   "id": "57919afd56de22b8",
   "outputs": [
    {
     "name": "stdout",
     "output_type": "stream",
     "text": [
      "['Описание курса, начальные требования, для кого этот курс. Цели курса, канал и комьюнити, глоссарий, PET-проект, хард режим vs лайт режим? Рассказываем почему важно разбираться в LLM. Нужен ли ИИ обычному человеку? Получаем ключ в боте. Получаем официальный ключ от OpenAI. Ныряем в Open Source и получаем ключ от HuggingFace.', 'Поясняем за промпты. Техники и лайфхаки для промптинга. Из чего состоит промпт? Few-shot learning. Output Parser. Рассказываем про преимущества LangChain.', 'Переводим LLM в чат-режим. Типы памяти. Chains & LCEL. Агенты и цепи. Инструменты (tools).']\n"
     ]
    }
   ],
   "execution_count": 40
  },
  {
   "metadata": {
    "ExecuteTime": {
     "end_time": "2025-04-27T12:23:45.246093Z",
     "start_time": "2025-04-27T12:23:45.225131Z"
    }
   },
   "cell_type": "code",
   "source": [
    "def get_content_from_sections(text: str) -> List[str]:\n",
    "    # Разделяем текст на основные разделы\n",
    "    sections = re.split(r'\\n(?=\\d+\\.\\s)', text)\n",
    "    \n",
    "    # Список для хранения текста из каждого основного раздела\n",
    "    content_list = []\n",
    "    \n",
    "    for section in sections:\n",
    "        # Удаляем строки, которые начинаются с числа и точки\n",
    "        content = re.sub(r'^\\d+\\.\\s.*', '', section, flags=re.MULTILINE)\n",
    "        # Удаляем пустые строки и объединяем текст в одну строку\n",
    "        content = ' '.join(line.strip() for line in content.splitlines() if line.strip())\n",
    "        # Добавляем текст в список, если он не пустой\n",
    "        if content:\n",
    "            content_list.append(content)\n",
    "    \n",
    "    return content_list\n",
    "\n",
    "\n",
    "test_result = get_content_from_sections(text1)\n",
    "print(test_result)"
   ],
   "id": "b455382b4d96a63a",
   "outputs": [
    {
     "name": "stdout",
     "output_type": "stream",
     "text": [
      "['Описание курса, начальные требования, для кого этот курс. 1.1 Как правильно входить в курс Цели курса, канал и комьюнити, глоссарий, PET-проект, хард режим vs лайт режим? 1.2 Общий подход и точки улучшения приложений с LLM Рассказываем почему важно разбираться в LLM. Нужен ли ИИ обычному человеку? 1.3 API ключ курса или от OpenAI? 1.3.1 Ключ от команды курса Получаем ключ в боте. 1.3.2 Ключ от OpenAI Получаем официальный ключ от OpenAI. 1.3.3 Ключ от HuggingFace Ныряем в Open Source и получаем ключ от HuggingFace.', '2.1 Введение в Prompt Engineering Поясняем за промпты. Техники и лайфхаки для промптинга. Из чего состоит промпт? 2.2 Дизайн промптов в LangChain Few-shot learning. Output Parser. 2.2.1 Введение в LangChain Рассказываем про преимущества LangChain.', '3.1 Память в LangChain Переводим LLM в чат-режим. Типы памяти. 3.2 Chains - собери свою цепь Chains & LCEL. 3.3 Агенты intro Агенты и цепи. Инструменты (tools).']\n"
     ]
    }
   ],
   "execution_count": 37
  }
 ],
 "metadata": {
  "kernelspec": {
   "display_name": "Python 3",
   "language": "python",
   "name": "python3"
  },
  "language_info": {
   "codemirror_mode": {
    "name": "ipython",
    "version": 2
   },
   "file_extension": ".py",
   "mimetype": "text/x-python",
   "name": "python",
   "nbconvert_exporter": "python",
   "pygments_lexer": "ipython2",
   "version": "2.7.6"
  }
 },
 "nbformat": 4,
 "nbformat_minor": 5
}
