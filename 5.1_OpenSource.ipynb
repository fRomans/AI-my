{
 "cells": [
  {
   "cell_type": "code",
   "execution_count": null,
   "id": "initial_id",
   "metadata": {
    "collapsed": true
   },
   "outputs": [],
   "source": [
    "# Импортируем датасет\n",
    "\n",
    "import pandas as pd\n",
    "\n",
    "df = pd.read_csv(\"https://stepik.org/media/attachments/lesson/1028705/mulimodal_questions.csv\")\n",
    "df\n"
   ]
  },
  {
   "metadata": {},
   "cell_type": "code",
   "outputs": [],
   "execution_count": null,
   "source": [
    "# Установим необходимую версию библиотеки\n",
    "\n",
    "!pip install bitsandbytes"
   ],
   "id": "aa8164221227f76f"
  },
  {
   "metadata": {},
   "cell_type": "code",
   "outputs": [],
   "execution_count": null,
   "source": [
    "# Скачаем zip-архив с картинками\n",
    "\n",
    "!wget https://stepik.org/media/attachments/lesson/1028705/images.zip\n",
    "!unzip images.zip"
   ],
   "id": "3f05997360fac414"
  },
  {
   "metadata": {},
   "cell_type": "code",
   "outputs": [],
   "execution_count": null,
   "source": [
    "from PIL import Image\n",
    "import torch\n",
    "from transformers import pipeline\n",
    "from transformers import BitsAndBytesConfig"
   ],
   "id": "d2d23dbe52152ec7"
  },
  {
   "metadata": {},
   "cell_type": "code",
   "outputs": [],
   "execution_count": null,
   "source": [
    "quantization_config = BitsAndBytesConfig(\n",
    "    load_in_4bit=True, # подгружаем сразу оптимальную версию\n",
    "    bnb_4bit_compute_dtype=torch.float16\n",
    ")"
   ],
   "id": "6abaeada378ea863"
  },
  {
   "metadata": {},
   "cell_type": "code",
   "outputs": [],
   "execution_count": null,
   "source": [
    "# указываем тип задачи и модель\n",
    "model_id = \"llava-hf/llava-1.5-7b-hf\"\n",
    "\n",
    "pipe = pipeline(\"image-to-text\", model=model_id, model_kwargs={\"quantization_config\": quantization_config})"
   ],
   "id": "db0c044d37d5ac8d"
  },
  {
   "metadata": {},
   "cell_type": "code",
   "outputs": [],
   "execution_count": null,
   "source": "images = [f\"images/im{i}.jpg\" for i in range(0, 10)]",
   "id": "fcc865142ebd8186"
  },
  {
   "metadata": {},
   "cell_type": "code",
   "outputs": [],
   "execution_count": null,
   "source": [
    "# Получим предсказания для изображений\n",
    "\n",
    "ans = []\n",
    "for im_path, question in zip(images, df['question'].values):\n",
    "\n",
    "    im = Image.open(im_path)\n",
    "\n",
    "    prompt = f\"USER:<image>\\n{question}. answer with an int number\\nASSISTANT:\"\n",
    "    outputs = pipe(im, prompt=prompt, generate_kwargs={\"max_new_tokens\": 200})\n",
    "    outputs = int(outputs[0]['generated_text'].split('ASSISTANT: ')[1])\n",
    "    ans.append(outputs)\n",
    "    #break # уберите break, когда убедитесь, что код работает для одного изображения\n",
    "print(ans)"
   ],
   "id": "108afbd7124fb2a9"
  },
  {
   "metadata": {},
   "cell_type": "code",
   "outputs": [],
   "execution_count": null,
   "source": [
    "# запишем ответы в датафрейм\n",
    "\n",
    "df['answer'] = ans\n",
    "df.drop(columns=['image_name'], inplace=True)\n",
    "df.to_csv('answer.csv', index=False)\n",
    "df"
   ],
   "id": "ed3adeaefbd22a24"
  },
  {
   "metadata": {},
   "cell_type": "code",
   "outputs": [],
   "execution_count": null,
   "source": "",
   "id": "f32187eb1bc93a6b"
  },
  {
   "metadata": {},
   "cell_type": "code",
   "outputs": [],
   "execution_count": null,
   "source": [
    "#---------------------------2-е решение-----------------------------------------------\n",
    "\n",
    "import cv2\n",
    "import torch\n",
    "import pandas as pd\n",
    "\n",
    "from PIL import Image\n",
    "from transformers import AutoModel, AutoTokenizer\n",
    "\n",
    "\n",
    "# Загружаем модель\n",
    "model = AutoModel.from_pretrained('openbmb/MiniCPM-V-2', trust_remote_code=True, torch_dtype=torch.bfloat16)\n",
    "model = model.to(device='cuda', dtype=torch.float16)\n",
    "\n",
    "tokenizer = AutoTokenizer.from_pretrained('openbmb/MiniCPM-V-2', trust_remote_code=True)\n",
    "model = model.eval()\n",
    "\n",
    "# Отвечаем на вопросы\n",
    "df_answer = pd.read_csv(\"https://stepik.org/media/attachments/lesson/1028705/mulimodal_questions.csv\")\n",
    "\n",
    "for i in range(len(df_answer)):\n",
    "    img = cv2.imread(df_answer.iloc[i, -1])\n",
    "    img = cv2.cvtColor(img, cv2.COLOR_BGR2RGB)\n",
    "    im_pil = Image.fromarray(img)\n",
    "\n",
    "    # Каждый вопрос ожидает только количество, поэтому можно использовать модель английского pre train. Для формата вывода добавляем свой промт к вопросу\n",
    "    question = df_answer.iloc[i, 0] + \" Get answer only number! Only one word!\"\n",
    "    msgs = [{'role': 'user', 'content': question}]\n",
    "\n",
    "    res, context, _ = model.chat(\n",
    "        image=im_pil,\n",
    "        msgs=msgs,\n",
    "        context=None,\n",
    "        tokenizer=tokenizer,\n",
    "        sampling=True,\n",
    "        temperature=1\n",
    "    )\n",
    "    \n",
    "    df_answer.iloc[i, 1] = res\n",
    "\n",
    "df_answer.drop(columns=\"image_name\").to_csv(\"solution_5.1.10.csv\", index=False)"
   ],
   "id": "db920df1461af705"
  },
  {
   "metadata": {},
   "cell_type": "code",
   "outputs": [],
   "execution_count": null,
   "source": "",
   "id": "48b7ea7d0b5bfbd3"
  }
 ],
 "metadata": {
  "kernelspec": {
   "display_name": "Python 3",
   "language": "python",
   "name": "python3"
  },
  "language_info": {
   "codemirror_mode": {
    "name": "ipython",
    "version": 2
   },
   "file_extension": ".py",
   "mimetype": "text/x-python",
   "name": "python",
   "nbconvert_exporter": "python",
   "pygments_lexer": "ipython2",
   "version": "2.7.6"
  }
 },
 "nbformat": 4,
 "nbformat_minor": 5
}
