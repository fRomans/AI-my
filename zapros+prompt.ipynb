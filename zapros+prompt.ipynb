{
 "cells": [
  {
   "cell_type": "code",
   "id": "initial_id",
   "metadata": {
    "collapsed": true,
    "ExecuteTime": {
     "end_time": "2025-03-03T15:07:35.531312Z",
     "start_time": "2025-03-03T15:07:08.881124Z"
    }
   },
   "source": [
    "from getpass import getpass\n",
    "from utils import ChatOpenAI\n",
    "\n",
    "#course_api_key= \"Введите API-ключ полученный в боте\"\n",
    "course_api_key = getpass(prompt='Введите API-ключ полученный в боте: ')\n",
    "\n",
    "\n",
    "# Инициализируем языковую модель\n",
    "llm = ChatOpenAI(temperature=0.0, course_api_key=course_api_key)"
   ],
   "outputs": [],
   "execution_count": 1
  },
  {
   "metadata": {
    "ExecuteTime": {
     "end_time": "2025-03-03T15:29:07.990639Z",
     "start_time": "2025-03-03T15:29:07.979947Z"
    }
   },
   "cell_type": "code",
   "source": [
    "prompt = \"\"\"Вот список функций, которые на python нужно реализовать:\n",
    "\n",
    "get_count_ones(number: str) - Находит количество единиц в двоичном представлении числа.\n",
    "\n",
    "\n",
    "\n",
    "\n",
    "Answer: \"\"\"\n"
   ],
   "id": "24e4352b9f33cbae",
   "outputs": [],
   "execution_count": 4
  },
  {
   "metadata": {
    "ExecuteTime": {
     "end_time": "2025-03-03T15:49:02.831380Z",
     "start_time": "2025-03-03T15:49:02.818645Z"
    }
   },
   "cell_type": "code",
   "source": [
    "def get_count_ones(number: str):\n",
    "    \"\"\"Находит количество единиц в двоичном представлении числа.\"\"\"\n",
    "    return print(number.count('1'))\n",
    "get_count_ones('11100101111100')"
   ],
   "id": "ea03c6adcf4e6dc0",
   "outputs": [
    {
     "name": "stdout",
     "output_type": "stream",
     "text": [
      "9\n"
     ]
    }
   ],
   "execution_count": 15
  },
  {
   "metadata": {
    "ExecuteTime": {
     "end_time": "2025-03-03T15:29:36.491459Z",
     "start_time": "2025-03-03T15:29:32.584745Z"
    }
   },
   "cell_type": "code",
   "source": [
    "llm = ChatOpenAI(temperature=0.0, course_api_key=course_api_key, max_tokens=512)\n",
    "print(llm.invoke(prompt))"
   ],
   "id": "f34c4b6b0403b443",
   "outputs": [
    {
     "name": "stdout",
     "output_type": "stream",
     "text": [
      "content='Вот реализация функции `get_count_ones`, которая принимает строку, представляющую двоичное число, и возвращает количество единиц в этом представлении:\\n\\n```python\\ndef get_count_ones(number: str) -> int:\\n    # Проверяем, что строка является двоичным числом\\n    if not all(bit in \\'01\\' for bit in number):\\n        raise ValueError(\"Input must be a binary string.\")\\n    \\n    # Считаем количество единиц\\n    count = number.count(\\'1\\')\\n    return count\\n\\n# Пример использования\\nbinary_number = \"1101001\"\\nprint(get_count_ones(binary_number))  # Вывод: 4\\n```\\n\\nВ этой функции:\\n- Мы проверяем, что входная строка состоит только из символов \\'0\\' и \\'1\\'.\\n- Затем используем метод `count` для подсчета количества единиц в строке.' additional_kwargs={'refusal': None} response_metadata={'token_usage': {'completion_tokens': 190, 'prompt_tokens': 44, 'total_tokens': 234, 'completion_tokens_details': {'accepted_prediction_tokens': 0, 'audio_tokens': 0, 'reasoning_tokens': 0, 'rejected_prediction_tokens': 0}, 'prompt_tokens_details': {'audio_tokens': 0, 'cached_tokens': 0}}, 'model_name': 'gpt-4o-mini-2024-07-18', 'system_fingerprint': 'fp_06737a9306', 'finish_reason': 'stop', 'logprobs': None} id='run-a37ddef3-7504-4938-a5a8-044778f717fc-0' usage_metadata={'input_tokens': 44, 'output_tokens': 190, 'total_tokens': 234, 'input_token_details': {'audio': 0, 'cache_read': 0}, 'output_token_details': {'audio': 0, 'reasoning': 0}}\n"
     ]
    }
   ],
   "execution_count": 5
  }
 ],
 "metadata": {
  "kernelspec": {
   "display_name": "Python 3",
   "language": "python",
   "name": "python3"
  },
  "language_info": {
   "codemirror_mode": {
    "name": "ipython",
    "version": 2
   },
   "file_extension": ".py",
   "mimetype": "text/x-python",
   "name": "python",
   "nbconvert_exporter": "python",
   "pygments_lexer": "ipython2",
   "version": "2.7.6"
  }
 },
 "nbformat": 4,
 "nbformat_minor": 5
}
