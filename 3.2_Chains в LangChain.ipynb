{
 "cells": [
  {
   "cell_type": "code",
   "id": "initial_id",
   "metadata": {
    "collapsed": true
   },
   "source": [
    "from utils import ChatOpenAI\n",
    "from getpass import getpass\n",
    "\n",
    "#course_api_key= \"Введите ваш API ключ с курса\"\n",
    "course_api_key = getpass(prompt='Введите API ключ')\n",
    "\n",
    "# Инициализируем языковую модель\n",
    "llm = ChatOpenAI(course_api_key=course_api_key)"
   ],
   "outputs": [],
   "execution_count": null
  },
  {
   "metadata": {
    "ExecuteTime": {
     "end_time": "2025-01-26T10:07:55.730123Z",
     "start_time": "2025-01-26T10:07:51.821124Z"
    }
   },
   "cell_type": "code",
   "source": [
    "import re\n",
    "import pandas as pd\n",
    "from tqdm import tqdm\n",
    "from getpass import getpass\n",
    "\n",
    "from langchain.prompts import PromptTemplate\n",
    "from langchain.chains import LLMChain, TransformChain\n",
    "from langchain.output_parsers import ResponseSchema, StructuredOutputParser\n",
    "\n",
    "df = pd.read_csv(\"https://stepik.org/media/attachments/lesson/1110883/raw_texts.csv\")\n",
    "df.head()"
   ],
   "id": "5bd5b7750af5230",
   "outputs": [
    {
     "data": {
      "text/plain": [
       "                                            raw_text\n",
       "0  The sun was setting, casting long shadows over...\n",
       "1  Le soleil se couchait, jetant de longues ombre...\n",
       "2  El sol se estaba poniendo, proyectando largas ...\n",
       "3  La ciudad estaba llena de vida, sus calles lle...\n",
       "4  La ville était pleine de vie, ses rues remplie..."
      ],
      "text/html": [
       "<div>\n",
       "<style scoped>\n",
       "    .dataframe tbody tr th:only-of-type {\n",
       "        vertical-align: middle;\n",
       "    }\n",
       "\n",
       "    .dataframe tbody tr th {\n",
       "        vertical-align: top;\n",
       "    }\n",
       "\n",
       "    .dataframe thead th {\n",
       "        text-align: right;\n",
       "    }\n",
       "</style>\n",
       "<table border=\"1\" class=\"dataframe\">\n",
       "  <thead>\n",
       "    <tr style=\"text-align: right;\">\n",
       "      <th></th>\n",
       "      <th>raw_text</th>\n",
       "    </tr>\n",
       "  </thead>\n",
       "  <tbody>\n",
       "    <tr>\n",
       "      <th>0</th>\n",
       "      <td>The sun was setting, casting long shadows over...</td>\n",
       "    </tr>\n",
       "    <tr>\n",
       "      <th>1</th>\n",
       "      <td>Le soleil se couchait, jetant de longues ombre...</td>\n",
       "    </tr>\n",
       "    <tr>\n",
       "      <th>2</th>\n",
       "      <td>El sol se estaba poniendo, proyectando largas ...</td>\n",
       "    </tr>\n",
       "    <tr>\n",
       "      <th>3</th>\n",
       "      <td>La ciudad estaba llena de vida, sus calles lle...</td>\n",
       "    </tr>\n",
       "    <tr>\n",
       "      <th>4</th>\n",
       "      <td>La ville était pleine de vie, ses rues remplie...</td>\n",
       "    </tr>\n",
       "  </tbody>\n",
       "</table>\n",
       "</div>"
      ]
     },
     "execution_count": 1,
     "metadata": {},
     "output_type": "execute_result"
    }
   ],
   "execution_count": 1
  },
  {
   "metadata": {},
   "cell_type": "code",
   "source": [
    "def clean_text(inputs: dict) -> dict:\n",
    "    text = inputs[\"text\"]\n",
    "\n",
    "    pattern = r'[¿¡£]'\n",
    "    text =  re.sub(pattern, '', text)\n",
    "   \n",
    "    \n",
    "    return {\"text\": text}"
   ],
   "id": "3c7a194947015b76",
   "outputs": [],
   "execution_count": null
  },
  {
   "metadata": {},
   "cell_type": "code",
   "source": [
    "def clean_text_nodict(text: str) -> dict:\n",
    "\n",
    "    pattern = r'[¿¡£]'\n",
    "    text =  re.sub(pattern, '', text)\n",
    "   \n",
    "    \n",
    "    return text"
   ],
   "id": "f17c0a2324f6c6e2",
   "outputs": [],
   "execution_count": null
  },
  {
   "metadata": {},
   "cell_type": "code",
   "source": [
    "# Определим схемы ответа \n",
    "language_schema = gift_schema = ResponseSchema(name=\"language\",\n",
    "                             description=\"на каком языке написано произведение\")\n",
    "\n",
    "person_schema = ResponseSchema(name=\"person\",\n",
    "                             description=\"имя главного героя\")\n",
    "\n",
    "response_schemas = [language_schema, person_schema]\n",
    "output_parser = StructuredOutputParser.from_response_schemas(response_schemas)\n",
    "format_instructions = output_parser.get_format_instructions()\n",
    "# print(format_instructions)\n",
    "# output_dict = output_parser.parse(response.content)"
   ],
   "id": "de9b981a1f2eb02b",
   "outputs": [],
   "execution_count": null
  },
  {
   "metadata": {},
   "cell_type": "code",
   "source": [
    "# создадим шаблон и промпт\n",
    "template = '''Из следующего текста извлеки информацию:\n",
    "1. Язык на котором написан текст. Указать на английском языке (например, не Русский, а Russian. Не Deutsch, а German)\n",
    "2. Главный герой рассказа. Имя главного героя произведения. На том же языке, как оно указано в тексте. (Hans, Pierrot, Анна)\n",
    "text: {text}\n",
    "\n",
    "{format_instructions}\n",
    "Результат:'''\n",
    "\n",
    "# Отличие между input_variables и partial_variables в LangChain заключается в том, что они представляют разные типы переменных:\n",
    "# input_variables — это список имён переменных, которые нужно предоставить во время выполнения, чтобы заполнить заполнители в шаблоне подсказки 1\n",
    "# partial_variables — это словарь, где ключи — имена переменных, которые имеют фиксированное значение и не нужно предоставлять во время выполнения, а значения — эти фиксированные значения. \n",
    "# Таким образом, input_variables указывают, какие переменные нужно заполнять во время выполнения, а partial_variables — это переменные с фиксированными значениями, которые используются при генерации подсказки. \n",
    "\n",
    "prompt = PromptTemplate(\n",
    "    template=template,\n",
    "    input_variables=[\"text\"],\n",
    "    partial_variables={\"format_instructions\": format_instructions},\n",
    ")\n",
    "\n",
    "\n",
    "print(prompt.template)"
   ],
   "id": "a1d8649bd3b570b2",
   "outputs": [],
   "execution_count": null
  },
  {
   "metadata": {},
   "cell_type": "code",
   "source": "clean_text_chain = clean_text | prompt | llm \n",
   "id": "3576e53d1c1b1fb7",
   "outputs": [],
   "execution_count": null
  },
  {
   "metadata": {},
   "cell_type": "code",
   "source": [
    "df_2 = pd.DataFrame()  #columns=['text','language','person']\n",
    "text_list = []\n",
    "language_list = []\n",
    "person_list = []\n",
    "for text in tqdm(df['raw_text']):\n",
    "    \n",
    "    result = clean_text_chain.invoke({'text': text,'format_instructions': format_instructions })\n",
    "    output_dict = output_parser.parse(result.content)\n",
    "    text_list.append(clean_text_nodict(text))\n",
    "    language_list.append(output_dict.get('language'))\n",
    "    person_list.append(output_dict.get('person'))\n",
    "    # break\n",
    "df_2['text'] = text_list\n",
    "df_2['language'] = language_list\n",
    "df_2['main_character'] = person_list\n",
    "df_2"
   ],
   "id": "37789b36c06e7ac9",
   "outputs": [],
   "execution_count": null
  },
  {
   "metadata": {},
   "cell_type": "code",
   "source": "df_2.to_csv('3.2.9_solution.csv', index=False)",
   "id": "ce232964055dfd83",
   "outputs": [],
   "execution_count": null
  },
  {
   "metadata": {},
   "cell_type": "code",
   "source": "",
   "id": "9642579d12008aaf",
   "outputs": [],
   "execution_count": null
  },
  {
   "metadata": {},
   "cell_type": "code",
   "source": "",
   "id": "8cd290f71d893a22",
   "outputs": [],
   "execution_count": null
  },
  {
   "metadata": {},
   "cell_type": "code",
   "source": "",
   "id": "2e2c32a773d2fb09",
   "outputs": [],
   "execution_count": null
  },
  {
   "metadata": {},
   "cell_type": "code",
   "source": "",
   "id": "2e62e1edfc0bbcd9",
   "outputs": [],
   "execution_count": null
  },
  {
   "metadata": {},
   "cell_type": "code",
   "source": [
    "import re\n",
    "def del_additional_signs(string: str) -> str:\n",
    "    result = re.sub(r'[!?]+', lambda m: '!' if '!' in m.group() else '?', string) # Заменяем все последовательности на один знак\n",
    "    result = re.sub(r'^[!?]+', '', result) # Удаляем все знаки препинания в начале строки\n",
    "    \n",
    "    return result\n",
    "\n",
    "# не изменяйте фрагмент кода ниже\n",
    "string = input()\n",
    "print(del_additional_signs(string))\n"
   ],
   "id": "383fd760c6dc512c",
   "outputs": [],
   "execution_count": null
  }
 ],
 "metadata": {
  "kernelspec": {
   "display_name": "Python 3",
   "language": "python",
   "name": "python3"
  },
  "language_info": {
   "codemirror_mode": {
    "name": "ipython",
    "version": 2
   },
   "file_extension": ".py",
   "mimetype": "text/x-python",
   "name": "python",
   "nbconvert_exporter": "python",
   "pygments_lexer": "ipython2",
   "version": "2.7.6"
  }
 },
 "nbformat": 4,
 "nbformat_minor": 5
}
