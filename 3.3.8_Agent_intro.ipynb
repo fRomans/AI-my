{
 "cells": [
  {
   "cell_type": "code",
   "id": "initial_id",
   "metadata": {
    "collapsed": true
   },
   "source": [
    "import os\n",
    "\n",
    "from getpass import getpass\n",
    "import warnings\n",
    "warnings.filterwarnings('ignore')\n",
    "from utils import ChatOpenAI\n",
    "\n",
    "#course_api_key= \"Введите ваш API ключ с курса\"\n",
    "course_api_key = getpass(prompt='Введите API ключ')\n",
    "\n",
    "# Инициализируем языковую модель\n",
    "llm = ChatOpenAI(temperature=0.0, course_api_key=course_api_key)"
   ],
   "outputs": [],
   "execution_count": null
  },
  {
   "metadata": {},
   "cell_type": "code",
   "outputs": [],
   "execution_count": null,
   "source": "",
   "id": "643d536a73cd332c"
  },
  {
   "metadata": {
    "ExecuteTime": {
     "end_time": "2025-03-04T14:40:17.878736Z",
     "start_time": "2025-03-04T14:40:17.866735Z"
    }
   },
   "cell_type": "code",
   "source": [
    "from langchain.agents import tool, load_tools\n",
    "import math\n",
    "import pandas as pd\n",
    "from tqdm import tqdm\n",
    "from langchain.agents import initialize_agent, AgentType\n",
    "from langchain.chains import LLMMathChain\n",
    "import warnings\n",
    "warnings.filterwarnings('ignore')\n"
   ],
   "id": "e582e5dcb2b4239",
   "outputs": [],
   "execution_count": 24
  },
  {
   "metadata": {},
   "cell_type": "code",
   "source": [
    "\n",
    "# _______________________________________________ЗАДАНИЕ 3.3.8________________________________________________________________\n",
    "\n",
    "df = pd.read_csv(\"https://stepik.org/media/attachments/lesson/1110884/custom_math_tools.csv\")\n",
    "df"
   ],
   "id": "6baacf6204f28b7",
   "outputs": [],
   "execution_count": null
  },
  {
   "metadata": {},
   "cell_type": "code",
   "source": "",
   "id": "d18ee611f5d2101d",
   "outputs": [],
   "execution_count": null
  },
  {
   "metadata": {},
   "cell_type": "code",
   "source": [
    "\n",
    "\n",
    "@tool\n",
    "def compute_arc_length(radius, angle_in_degrees)-> int:\n",
    "    \"\"\"Вычисляет длину дуги по радиусу и углу в градусах\"\"\"\n",
    "    return (angle_in_degrees / 360) * 2 * math.pi * radius\n",
    "\n",
    "\n",
    "@tool\n",
    "def compute_triangle_area(a, b, c)-> int:\n",
    "    \"\"\"Вычисляет площадь треугольника по длинам его сторон\"\"\"\n",
    "    s = (a + b + c) / 2\n",
    "    return math.sqrt(s * (s - a) * (s - b) * (s - c))\n",
    "\n",
    "# Реализуйте остальные функции\n",
    "@tool\n",
    "def add_numbers(num1, num2)-> int:\n",
    "    \"\"\"Складывает два числа.\"\"\"\n",
    "    return num1 + num2\n",
    "@tool\n",
    "def convert_meters_to_cm(num)-> int:\n",
    "    \"\"\"Переводит метры в сантиметры.\"\"\"\n",
    "    return num * 100\n",
    "@tool\n",
    "def convert_cubic_cm_to_liters(num)-> int:\n",
    "    \"\"\"Переводит кубические сантиметры в литры.\"\"\"\n",
    "    return num / 1000\n",
    "@tool\n",
    "def compute_rectangle_perimeter(a, b)-> int:\n",
    "    \"\"\"Вычисляет периметр прямоугольника.\"\"\"\n",
    "    return 2 * (a + b)\n",
    "@tool\n",
    "def compute_circle_area(radius)-> int:\n",
    "    \"\"\"Вычисляет площадь круга.\"\"\"\n",
    "    return math.pi * (radius ** 2)\n",
    "@tool\n",
    "def compute_cylinder_volume(radius, height)-> int:\n",
    "    \"\"\"Вычисляет объем цилиндра.\"\"\"\n",
    "    return math.pi * radius ** 2 * height\n",
    "@tool\n",
    "def compute_cube_volume(a)-> int:\n",
    "    \"\"\"Вычисляет объем куба.\"\"\"\n",
    "    return a ** 3\n",
    "@tool\n",
    "def convert_binary_to_decimal(binary_number: str)-> int:\n",
    "    \"\"\"Переводит число из двоичной системы счисления в десятичную систему счисления.\"\"\"\n",
    "    return int(binary_number, 2)\n",
    "@tool\n",
    "def convert_decimal_to_binary(decimal_number)-> int:\n",
    "    \"\"\"Переводит число из десятичной системы счисления в двоичную систему счисления.\"\"\"\n",
    "    return bin(decimal_number)[2:]\n",
    "@tool\n",
    "def get_count_ones(number: str)-> int:\n",
    "    \"\"\"Находит количество единиц в двоичном представлении числа.\"\"\"\n",
    "    return number.count('1')\n",
    "                        \n",
    "# Поместите все написанные функции в tools      \n",
    "tools = [compute_arc_length, compute_triangle_area,add_numbers,convert_meters_to_cm, convert_cubic_cm_to_liters,compute_rectangle_perimeter, compute_circle_area,compute_cylinder_volume,compute_cube_volume,convert_binary_to_decimal,convert_decimal_to_binary,get_count_ones]"
   ],
   "id": "8d1ed60ded2f1e4b",
   "outputs": [],
   "execution_count": null
  },
  {
   "metadata": {},
   "cell_type": "code",
   "source": [
    "\n",
    "agent = initialize_agent(\n",
    "    agent=AgentType.STRUCTURED_CHAT_ZERO_SHOT_REACT_DESCRIPTION,\n",
    "    tools=tools, llm=llm, \n",
    "    verbose=True, \n",
    "    handle_parsing_errors=True,\n",
    "    max_iterations=10\n",
    "    )\n",
    "\n"
   ],
   "id": "40d7ebc593921d35",
   "outputs": [],
   "execution_count": null
  },
  {
   "metadata": {},
   "cell_type": "code",
   "source": [
    "answers = []\n",
    "for task in df['task']:\n",
    "\n",
    "    try:\n",
    "\n",
    "        # Попытка обработки задачи агентом\n",
    "\n",
    "        result = agent.run(f'{task}. Ответ должен быть представлен в виде целого числа, если итоговый результат является точным целым числом, или в виде вещественного числа с точностью до двух знаков после запятой, если результат содержит дробную часть. Не допускаеться в ответе содержания слов')\n",
    "\n",
    "        print(f\"Задача: {task}\\nРезультат: {result}\\n\")  # Выводим успешный результат\n",
    "\n",
    "    except Exception as e:\n",
    "\n",
    "        # Сохранение ошибки\n",
    "\n",
    "        result = f\"Ошибка: {e}\"\n",
    "\n",
    "        print(f\"Задача: {task}\\nРезультат: {result}\\n\")  # Выводим ошибку\n",
    "\n",
    "    answers.append(result)\n",
    "\n",
    " \n",
    "\n",
    "# Добавление столбца с ответами\n",
    "\n",
    "df['answer'] = answers\n",
    "# Сохранение в CSV\n",
    "\n",
    "df[['task', 'answer']].to_csv(\"3.3.8_solution.csv\", index=False)"
   ],
   "id": "7cc6aded8f3d16b3",
   "outputs": [],
   "execution_count": null
  },
  {
   "metadata": {},
   "cell_type": "markdown",
   "source": "",
   "id": "2ccf7a0878128c49"
  },
  {
   "metadata": {},
   "cell_type": "markdown",
   "source": "",
   "id": "3cf1a6d1a6e62e60"
  },
  {
   "metadata": {},
   "cell_type": "markdown",
   "source": "",
   "id": "d88753ed24dc4d8e"
  },
  {
   "metadata": {},
   "cell_type": "markdown",
   "source": "",
   "id": "41048b52b0199db9"
  }
 ],
 "metadata": {
  "kernelspec": {
   "display_name": "Python 3",
   "language": "python",
   "name": "python3"
  },
  "language_info": {
   "codemirror_mode": {
    "name": "ipython",
    "version": 2
   },
   "file_extension": ".py",
   "mimetype": "text/x-python",
   "name": "python",
   "nbconvert_exporter": "python",
   "pygments_lexer": "ipython2",
   "version": "2.7.6"
  }
 },
 "nbformat": 4,
 "nbformat_minor": 5
}
