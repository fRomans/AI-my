{
 "cells": [
  {
   "cell_type": "code",
   "id": "initial_id",
   "metadata": {
    "collapsed": true,
    "ExecuteTime": {
     "end_time": "2025-01-20T13:00:34.379804Z",
     "start_time": "2025-01-20T13:00:28.502319Z"
    }
   },
   "source": [
    "from utils import ChatOpenAI\n",
    "from getpass import getpass\n",
    "\n",
    "#course_api_key= \"Введите ваш API ключ с курса\"\n",
    "course_api_key = getpass(prompt='Введите API ключ')\n",
    "\n",
    "# Инициализируем языковую модель\n",
    "llm = ChatOpenAI(course_api_key=course_api_key)"
   ],
   "outputs": [],
   "execution_count": 1
  },
  {
   "metadata": {
    "ExecuteTime": {
     "end_time": "2025-01-20T13:49:06.279284Z",
     "start_time": "2025-01-20T13:49:06.127273Z"
    }
   },
   "cell_type": "code",
   "source": [
    "import pandas as pd\n",
    "from langchain.output_parsers import ResponseSchema\n",
    "from langchain.output_parsers import StructuredOutputParser\n",
    "from langchain.prompts import ChatPromptTemplate\n",
    "from tqdm import tqdm\n",
    "\n",
    "df = pd.read_csv('https://stepik.org/media/attachments/lesson/1110806/vacancies_messages_50.csv')\n"
   ],
   "id": "57b664413211e07a",
   "outputs": [],
   "execution_count": 8
  },
  {
   "metadata": {
    "ExecuteTime": {
     "end_time": "2025-01-20T13:50:24.156712Z",
     "start_time": "2025-01-20T13:49:08.764298Z"
    }
   },
   "cell_type": "code",
   "source": [
    "template = \"\"\"Из следующего текста извлеки информацию:\n",
    "\n",
    "job_title: описании вакансии, на том же языке. Проверяем полное совпадение, без учета регистра.Без грейда\n",
    "\n",
    "company: название компании без учета регистра\n",
    "\n",
    "salary: исла пишем без пробелов, не пишем тыс. или к.(умножаем в таком случае на 1000), не пишем фикс, плюшки, премии, % от продаж, техника\n",
    "\n",
    "tg: Указываем контакт в телеграмм, используя @. Проверяем полное совпадение, с учетом регистра.\n",
    "Если указано несколько контаков, то указываем их через запятую (не забывая про пробел после запятой).\n",
    "\n",
    "grade: Возможные значения intern, junior, junior+, middle, middle+, senior, lead.\n",
    "Если указано несколько значений, то пишем их через запятую в порядке возрастания.\n",
    "\n",
    "text: {text}\n",
    "\n",
    "{format_instructions}\n",
    "\"\"\"\n",
    "\n",
    "prompt = ChatPromptTemplate.from_template(template=template)\n",
    "\n",
    "job_title_schema = ResponseSchema(\n",
    "    name=\"job_title\",\n",
    "    description=\"...\"\n",
    ")\n",
    "\n",
    "\n",
    "company_schema = ResponseSchema(\n",
    "    name=\"company\",\n",
    "    description=\"...\"\n",
    ")\n",
    "\n",
    "\n",
    "salary_schema = ResponseSchema(\n",
    "    name=\"salary\",\n",
    "    description=\"...\"\n",
    ")\n",
    "\n",
    "\n",
    "tg_schema = ResponseSchema(\n",
    "    name=\"tg\",\n",
    "    description=\"...\"\n",
    ")\n",
    "\n",
    "\n",
    "grade_schema = ResponseSchema(\n",
    "    name=\"grade\",\n",
    "    description=\"...\"\n",
    ")\n",
    "\n",
    "response_schemas = [\n",
    "    job_title_schema,\n",
    "    company_schema,\n",
    "    salary_schema,\n",
    "    tg_schema,\n",
    "    grade_schema\n",
    "]\n",
    "\n",
    "output_parser = StructuredOutputParser.from_response_schemas(response_schemas) # Создаём парсер и подаём в него список со схемами\n",
    "format_instructions = output_parser.get_format_instructions() # Получаем инструкции по форматированию ответа\n",
    "\n",
    "dict_list = [] # Список из словарей, где будем хранить полученную информацию\n",
    "for text_input in tqdm(df['text']):\n",
    "    messages = prompt.format_messages(\n",
    "        text=text_input,\n",
    "        format_instructions=format_instructions\n",
    "    )\n",
    "    response = llm.invoke(messages) # Ответ модели\n",
    "    dict_list.append(output_parser.parse(response.content)) # Переводим содержимое ответа модели в словарь и добавляем в список\n",
    "    # break # Для отладки. Уберите, когда убедитесь, что на одном примере работает\n",
    "    \n",
    "result_df = pd.DataFrame(dict_list) # Создаем датафрейм из полученной информации\n",
    "ans_df = pd.concat([df, result_df], axis=1) # Объединяем всё в один датафрейм\n",
    "ans_df.to_csv('2_2_8_solution.csv', index=False) # Сохраняем файл, отправляем на Stepik, получаем баллы :)    "
   ],
   "id": "3beee1eb9ce55e60",
   "outputs": [
    {
     "name": "stderr",
     "output_type": "stream",
     "text": [
      "100%|██████████| 50/50 [01:15<00:00,  1.51s/it]\n"
     ]
    }
   ],
   "execution_count": 9
  }
 ],
 "metadata": {
  "kernelspec": {
   "display_name": "Python 3",
   "language": "python",
   "name": "python3"
  },
  "language_info": {
   "codemirror_mode": {
    "name": "ipython",
    "version": 2
   },
   "file_extension": ".py",
   "mimetype": "text/x-python",
   "name": "python",
   "nbconvert_exporter": "python",
   "pygments_lexer": "ipython2",
   "version": "2.7.6"
  }
 },
 "nbformat": 4,
 "nbformat_minor": 5
}
