{
 "cells": [
  {
   "cell_type": "code",
   "id": "initial_id",
   "metadata": {
    "collapsed": true
   },
   "source": [
    "from getpass import getpass\n",
    "import warnings\n",
    "\n",
    "from pandas.io.pytables import format_doc\n",
    "from prompt_toolkit.utils import to_str\n",
    "\n",
    "warnings.filterwarnings('ignore')\n",
    "from utils import ChatOpenAI\n",
    "\n",
    "#course_api_key= \"Введите ваш API ключ с курса\"\n",
    "course_api_key = getpass(prompt='Введите API ключ')\n",
    "\n",
    "# Инициализируем языковую модель\n",
    "llm = ChatOpenAI(temperature=0.0, course_api_key=course_api_key)"
   ],
   "outputs": [],
   "execution_count": null
  },
  {
   "metadata": {
    "ExecuteTime": {
     "end_time": "2025-04-12T12:41:05.505814Z",
     "start_time": "2025-04-12T12:41:05.395452Z"
    }
   },
   "cell_type": "code",
   "source": [
    "import pandas as pd\n",
    "from langchain.document_loaders import CSVLoader, DataFrameLoader, PyPDFLoader\n",
    "\n",
    "doc1 = pd.read_csv(\"https://stepik.org/media/attachments/lesson/1084288/pushkin_questions.csv\")\n",
    "# loader_qu = DataFrameLoader(doc1, page_content_column=\"question\")\n",
    "# doc_qu = loader_qu.load()\n",
    "# doc_qu\n",
    "doc1"
   ],
   "id": "19ec6a2c4b1bd472",
   "outputs": [
    {
     "data": {
      "text/plain": [
       "                                             question\n",
       "0                     Кого убили раздетой на крыльце?\n",
       "1                 Где Маша остановилась в Петербурге?\n",
       "2          Почему Гринев и Савельич сбились с дороги?\n",
       "3         Кто издевался над Машей и морил ее голодом?\n",
       "4        Куда приговорили отправить Гринева в ссылку?\n",
       "5           Сколько детей было в семье Петра Гринева?\n",
       "6                       Кто воспитывал Петра Гринева?\n",
       "7   Сколько казаков попросил Гринев, чтобы очистит...\n",
       "8   Как далеко находилась от города Белогорская кр...\n",
       "9                         Как звали дочку коменданта?\n",
       "10                         Что Петя подарил вожатому?\n",
       "11                   Какое напутствие дал Петру отец?\n",
       "12  Кого Пугачев оставил комендантом Белогорской к...\n",
       "13               Почему Швабрина перевели в крепость?\n",
       "14          Кого просил пощадить Савельич у Пугачева?"
      ],
      "text/html": [
       "<div>\n",
       "<style scoped>\n",
       "    .dataframe tbody tr th:only-of-type {\n",
       "        vertical-align: middle;\n",
       "    }\n",
       "\n",
       "    .dataframe tbody tr th {\n",
       "        vertical-align: top;\n",
       "    }\n",
       "\n",
       "    .dataframe thead th {\n",
       "        text-align: right;\n",
       "    }\n",
       "</style>\n",
       "<table border=\"1\" class=\"dataframe\">\n",
       "  <thead>\n",
       "    <tr style=\"text-align: right;\">\n",
       "      <th></th>\n",
       "      <th>question</th>\n",
       "    </tr>\n",
       "  </thead>\n",
       "  <tbody>\n",
       "    <tr>\n",
       "      <th>0</th>\n",
       "      <td>Кого убили раздетой на крыльце?</td>\n",
       "    </tr>\n",
       "    <tr>\n",
       "      <th>1</th>\n",
       "      <td>Где Маша остановилась в Петербурге?</td>\n",
       "    </tr>\n",
       "    <tr>\n",
       "      <th>2</th>\n",
       "      <td>Почему Гринев и Савельич сбились с дороги?</td>\n",
       "    </tr>\n",
       "    <tr>\n",
       "      <th>3</th>\n",
       "      <td>Кто издевался над Машей и морил ее голодом?</td>\n",
       "    </tr>\n",
       "    <tr>\n",
       "      <th>4</th>\n",
       "      <td>Куда приговорили отправить Гринева в ссылку?</td>\n",
       "    </tr>\n",
       "    <tr>\n",
       "      <th>5</th>\n",
       "      <td>Сколько детей было в семье Петра Гринева?</td>\n",
       "    </tr>\n",
       "    <tr>\n",
       "      <th>6</th>\n",
       "      <td>Кто воспитывал Петра Гринева?</td>\n",
       "    </tr>\n",
       "    <tr>\n",
       "      <th>7</th>\n",
       "      <td>Сколько казаков попросил Гринев, чтобы очистит...</td>\n",
       "    </tr>\n",
       "    <tr>\n",
       "      <th>8</th>\n",
       "      <td>Как далеко находилась от города Белогорская кр...</td>\n",
       "    </tr>\n",
       "    <tr>\n",
       "      <th>9</th>\n",
       "      <td>Как звали дочку коменданта?</td>\n",
       "    </tr>\n",
       "    <tr>\n",
       "      <th>10</th>\n",
       "      <td>Что Петя подарил вожатому?</td>\n",
       "    </tr>\n",
       "    <tr>\n",
       "      <th>11</th>\n",
       "      <td>Какое напутствие дал Петру отец?</td>\n",
       "    </tr>\n",
       "    <tr>\n",
       "      <th>12</th>\n",
       "      <td>Кого Пугачев оставил комендантом Белогорской к...</td>\n",
       "    </tr>\n",
       "    <tr>\n",
       "      <th>13</th>\n",
       "      <td>Почему Швабрина перевели в крепость?</td>\n",
       "    </tr>\n",
       "    <tr>\n",
       "      <th>14</th>\n",
       "      <td>Кого просил пощадить Савельич у Пугачева?</td>\n",
       "    </tr>\n",
       "  </tbody>\n",
       "</table>\n",
       "</div>"
      ]
     },
     "execution_count": 24,
     "metadata": {},
     "output_type": "execute_result"
    }
   ],
   "execution_count": 24
  },
  {
   "metadata": {},
   "cell_type": "code",
   "source": [
    "# Определим лоадер pdf\n",
    "loader = PyPDFLoader(file_path=\"R:\\AProgr\\AI\\AI_проекты\\AI_project_1701\\data\\The_Daughter_of_The_Commandant.pdf\")\n",
    "documents_pdf = loader.load()\n",
    "\n",
    "# Посмотрим как выглядит документ\n",
    "# documents_pdf = documents_pdf[0].page_content\n",
    "doc_pdf = []\n",
    "for i in documents_pdf:\n",
    "    doc_pdf.append(str(i)) # перевожу все элементы в str т.к была ошибка(ожидание строки или битов)\n",
    " \n",
    "ggg = ' ' \n",
    "for i in doc_pdf:\n",
    "    ggg =ggg+i    \n",
    "    \n",
    "    \n",
    "print(ggg)\n",
    "type(ggg)"
   ],
   "id": "4b77297d3f4bd6d9",
   "outputs": [],
   "execution_count": null
  },
  {
   "metadata": {},
   "cell_type": "code",
   "source": [
    "from langchain.text_splitter import (\n",
    "    CharacterTextSplitter,\n",
    "    RecursiveCharacterTextSplitter,\n",
    ")\n",
    "\n",
    "splitter = RecursiveCharacterTextSplitter(\n",
    "    chunk_size=1000,\n",
    "    chunk_overlap=200,\n",
    "    length_function=len,\n",
    ")\n",
    "\n",
    "\n",
    "split_documents = splitter.create_documents([ggg])\n",
    "len(split_documents)"
   ],
   "id": "701c61ee17c3e571",
   "outputs": [],
   "execution_count": null
  },
  {
   "metadata": {},
   "cell_type": "code",
   "source": [
    "# # Если используете ключ курса, запустите эту ячейку\n",
    "# from utils import OpenAIEmbeddings\n",
    "# \n",
    "# embeddings_api_model = OpenAIEmbeddings(course_api_key=course_api_key)"
   ],
   "id": "728f91a96c1c7e0f",
   "outputs": [],
   "execution_count": null
  },
  {
   "metadata": {},
   "cell_type": "code",
   "source": [
    "\n",
    "\n",
    "# embeddings = embeddings_api_model.embed_documents(\n",
    "#     [\n",
    "#        str_1\n",
    "#     ]\n",
    "# )\n",
    "# # Посмотрим размерность эмбеддингов\n",
    "# print(len(embeddings), len(embeddings[0]), type(embeddings), type(embeddings[0]))\n",
    "# embeddings[0][:5]"
   ],
   "id": "e1ad387da671c269",
   "outputs": [],
   "execution_count": null
  },
  {
   "metadata": {},
   "cell_type": "code",
   "source": [
    "from langchain.embeddings import HuggingFaceEmbeddings\n",
    "\n",
    "# Если у вас нет видеокарты, укажите 'device': 'cpu'                                          или cuda - если через видеокарту\n",
    "hf_embeddings_model = HuggingFaceEmbeddings(\n",
    "    model_name=\"cointegrated/LaBSE-en-ru\", model_kwargs={\"device\": \"cpu\"}\n",
    ")\n",
    "\n",
    "\n",
    "# print(len(embeddings), len(embeddings[0]))"
   ],
   "id": "116d1b013a831587",
   "outputs": [],
   "execution_count": null
  },
  {
   "metadata": {},
   "cell_type": "code",
   "source": [
    "from langchain.vectorstores import FAISS\n",
    "from utils import OpenAIEmbeddings\n",
    "\n",
    "# embeddings = OpenAIEmbeddings(course_api_key=course_api_key)\n",
    "db = FAISS.from_documents(\n",
    "    split_documents, hf_embeddings_model\n",
    ")  \n",
    "\n",
    "db.save_local(\"faiss_db\") # можно сохранить базу локально, указав путь\n"
   ],
   "id": "7ce3ce9f648138cb",
   "outputs": [],
   "execution_count": null
  },
  {
   "metadata": {},
   "cell_type": "code",
   "source": [
    "# Также можно вывести скор каждого документа\n",
    "db.similarity_search_with_score(\n",
    "    \"Кого убили раздетой на крыльце?\"\n",
    ")"
   ],
   "id": "9f03da6a22b385f2",
   "outputs": [],
   "execution_count": null
  },
  {
   "metadata": {},
   "cell_type": "code",
   "source": [
    "                                                  #  1 вариант retriever(извлечение)\n",
    "#  Самый частый кейс - использование векторного хранилища и его методов для получения документов\n",
    "retriever = db.as_retriever(\n",
    "    search_type=\"similarity\",  # тип поиска похожих документов\n",
    "    k=4,  # количество возвращаемых документов (Default: 4)\n",
    "    score_threshold=None,  # минимальный порог для поиска \"similarity_score_threshold\"\n",
    ")\n",
    "# retriever.get_relevant_documents(\n",
    "#     \"Кого убили раздетой на крыльце?\"\n",
    "# )\n"
   ],
   "id": "7d6d798463c0bef",
   "outputs": [],
   "execution_count": null
  },
  {
   "metadata": {},
   "cell_type": "code",
   "source": [
    "                                            #  2 вариант retriever(извлечение)\n",
    "\n",
    "from langchain.retrievers import BM25Retriever, EnsembleRetriever\n",
    "\n",
    "# Попробуем BM25 - алгоритм поиска по ключевым словам. Может искать лучше, но не поймёт запрос на другом языке.\n",
    "# Также не сможет искать, если запрос на обывательском языке, а документы на профессиональном\n",
    "bm25 = BM25Retriever.from_documents(split_documents[:70])  # Эмбеддинги ему не нужны\n",
    "bm25.k = 5  # Так можно задать количество возвращаемых документов\n",
    "\n",
    "bm25.get_relevant_documents(\n",
    "    \"Кого убили раздетой на крыльце?\"\n",
    ")[:1]"
   ],
   "id": "8f1b21f93b3b306b",
   "outputs": [],
   "execution_count": null
  },
  {
   "metadata": {},
   "cell_type": "code",
   "source": [
    "                                    #  3 вариант retriever(извлечение) Объединяем bm25 и retriever (первый и второй вариант)\n",
    "from langchain.retrievers import BM25Retriever, EnsembleRetriever\n",
    "# Если один ретривер плохо справляется, то можно использовать целый ансамбль и даже каждому вес назначить\n",
    "ensemble_retriever = EnsembleRetriever(\n",
    "    retrievers=[bm25, retriever],  # список ретриверов\n",
    "    weights=[\n",
    "        0.4,\n",
    "        0.6,\n",
    "    ],  # веса, на которые домножается скор документа от каждого ретривера\n",
    ")\n",
    "\n",
    "ensemble_retriever.get_relevant_documents(\n",
    "    \"Кого убили раздетой на крыльце?\"\n",
    ")"
   ],
   "id": "dde3c581ff253c2e",
   "outputs": [],
   "execution_count": null
  },
  {
   "metadata": {},
   "cell_type": "code",
   "source": [
    "from langchain.schema import StrOutputParser\n",
    "from langchain_core.prompts import ChatPromptTemplate\n",
    "from langchain_core.runnables import RunnablePassthrough\n",
    "\n",
    "# Создаём простой шаблон\n",
    "template = \"\"\"\n",
    "Answer the question based only on the following context:\n",
    "\n",
    "{context}\n",
    "\n",
    "Question: {question}\n",
    "\"\"\"\n",
    "# Создаём промпт из шаблона\n",
    "prompt = ChatPromptTemplate.from_template(template)\n",
    "\n",
    "\n",
    "# Объявляем функцию, которая будет собирать строку из полученных документов\n",
    "def format_docs(docs):\n",
    "    return \"\\n\\n\".join([d.page_content for d in docs])\n",
    "\n",
    "\n",
    "# Создаём цепочку\n",
    "chain = (\n",
    "    {\"context\": ensemble_retriever | format_docs, \"question\": RunnablePassthrough()}\n",
    "    | prompt\n",
    "    | llm\n",
    "    | StrOutputParser()\n",
    ")\n",
    "chain.invoke(\"Кого убили раздетой на крыльце?\")"
   ],
   "id": "9f3f946da9252a14",
   "outputs": [],
   "execution_count": null
  },
  {
   "metadata": {
    "ExecuteTime": {
     "end_time": "2025-04-12T12:44:10.571418Z",
     "start_time": "2025-04-12T12:43:55.603005Z"
    }
   },
   "cell_type": "code",
   "source": [
    "from tqdm import tqdm\n",
    "\n",
    "answers = [] # Список, где будем хранить ответы модели\n",
    "\n",
    "for text_input in tqdm(doc1['question']):\n",
    "    answer = chain.invoke(text_input)\n",
    "    answers.append(answer) # Добавляем ответ в список\n",
    "     # Для отладки. Уберите, когда убедитесь, что на одном примере работает\n",
    "print(answers)    "
   ],
   "id": "433fe21c52c2a1cf",
   "outputs": [
    {
     "name": "stderr",
     "output_type": "stream",
     "text": [
      "100%|██████████| 15/15 [00:14<00:00,  1.00it/s]"
     ]
    },
    {
     "name": "stdout",
     "output_type": "stream",
     "text": [
      "['Раздетую на крыльце убили Василису Егоровну.', 'Маша остановилась в Царском Селе в Петербурге.', 'Гринев и Савельич сбились с дороги из-за бурана, который застал их в пути.', 'Над Машей издевался Швабрин и морил ее голодом.', 'Гринева приговорили к ссылке в Сибирь.', 'В семье Петра Гринева было девять детей, но все, кроме Петра, умерли в младенчестве.', 'Петра Гринева воспитывал дядька Савельич.', 'Гринев попросил полсотни казаков, чтобы очистить Белогорскую крепость.', 'Белогорская крепость находилась в 40 верст от города.', 'Дочку коменданта звали Маша.', 'В предоставленном контексте нет информации о том, что Петя подарил вожатому.', 'Отец велит Петру беречь ему «платье снову, а честь смолоду».', 'Пугачев оставил комендантом Белогорской крепости Швабрина.', 'Швабрина перевели в крепость за дуэль.', 'Савельич просил пощадить Гринева у Пугачева.']\n"
     ]
    },
    {
     "name": "stderr",
     "output_type": "stream",
     "text": [
      "\n"
     ]
    }
   ],
   "execution_count": 26
  },
  {
   "metadata": {
    "ExecuteTime": {
     "end_time": "2025-04-12T12:49:29.455135Z",
     "start_time": "2025-04-12T12:49:29.447135Z"
    }
   },
   "cell_type": "code",
   "source": [
    "doc1['answer'] = answers\n",
    "doc1"
   ],
   "id": "400d1005ef02e1a3",
   "outputs": [
    {
     "data": {
      "text/plain": [
       "                                             question  \\\n",
       "0                     Кого убили раздетой на крыльце?   \n",
       "1                 Где Маша остановилась в Петербурге?   \n",
       "2          Почему Гринев и Савельич сбились с дороги?   \n",
       "3         Кто издевался над Машей и морил ее голодом?   \n",
       "4        Куда приговорили отправить Гринева в ссылку?   \n",
       "5           Сколько детей было в семье Петра Гринева?   \n",
       "6                       Кто воспитывал Петра Гринева?   \n",
       "7   Сколько казаков попросил Гринев, чтобы очистит...   \n",
       "8   Как далеко находилась от города Белогорская кр...   \n",
       "9                         Как звали дочку коменданта?   \n",
       "10                         Что Петя подарил вожатому?   \n",
       "11                   Какое напутствие дал Петру отец?   \n",
       "12  Кого Пугачев оставил комендантом Белогорской к...   \n",
       "13               Почему Швабрина перевели в крепость?   \n",
       "14          Кого просил пощадить Савельич у Пугачева?   \n",
       "\n",
       "                                               answer  \n",
       "0        Раздетую на крыльце убили Василису Егоровну.  \n",
       "1      Маша остановилась в Царском Селе в Петербурге.  \n",
       "2   Гринев и Савельич сбились с дороги из-за буран...  \n",
       "3     Над Машей издевался Швабрин и морил ее голодом.  \n",
       "4              Гринева приговорили к ссылке в Сибирь.  \n",
       "5   В семье Петра Гринева было девять детей, но вс...  \n",
       "6           Петра Гринева воспитывал дядька Савельич.  \n",
       "7   Гринев попросил полсотни казаков, чтобы очисти...  \n",
       "8   Белогорская крепость находилась в 40 верст от ...  \n",
       "9                        Дочку коменданта звали Маша.  \n",
       "10  В предоставленном контексте нет информации о т...  \n",
       "11  Отец велит Петру беречь ему «платье снову, а ч...  \n",
       "12  Пугачев оставил комендантом Белогорской крепос...  \n",
       "13             Швабрина перевели в крепость за дуэль.  \n",
       "14       Савельич просил пощадить Гринева у Пугачева.  "
      ],
      "text/html": [
       "<div>\n",
       "<style scoped>\n",
       "    .dataframe tbody tr th:only-of-type {\n",
       "        vertical-align: middle;\n",
       "    }\n",
       "\n",
       "    .dataframe tbody tr th {\n",
       "        vertical-align: top;\n",
       "    }\n",
       "\n",
       "    .dataframe thead th {\n",
       "        text-align: right;\n",
       "    }\n",
       "</style>\n",
       "<table border=\"1\" class=\"dataframe\">\n",
       "  <thead>\n",
       "    <tr style=\"text-align: right;\">\n",
       "      <th></th>\n",
       "      <th>question</th>\n",
       "      <th>answer</th>\n",
       "    </tr>\n",
       "  </thead>\n",
       "  <tbody>\n",
       "    <tr>\n",
       "      <th>0</th>\n",
       "      <td>Кого убили раздетой на крыльце?</td>\n",
       "      <td>Раздетую на крыльце убили Василису Егоровну.</td>\n",
       "    </tr>\n",
       "    <tr>\n",
       "      <th>1</th>\n",
       "      <td>Где Маша остановилась в Петербурге?</td>\n",
       "      <td>Маша остановилась в Царском Селе в Петербурге.</td>\n",
       "    </tr>\n",
       "    <tr>\n",
       "      <th>2</th>\n",
       "      <td>Почему Гринев и Савельич сбились с дороги?</td>\n",
       "      <td>Гринев и Савельич сбились с дороги из-за буран...</td>\n",
       "    </tr>\n",
       "    <tr>\n",
       "      <th>3</th>\n",
       "      <td>Кто издевался над Машей и морил ее голодом?</td>\n",
       "      <td>Над Машей издевался Швабрин и морил ее голодом.</td>\n",
       "    </tr>\n",
       "    <tr>\n",
       "      <th>4</th>\n",
       "      <td>Куда приговорили отправить Гринева в ссылку?</td>\n",
       "      <td>Гринева приговорили к ссылке в Сибирь.</td>\n",
       "    </tr>\n",
       "    <tr>\n",
       "      <th>5</th>\n",
       "      <td>Сколько детей было в семье Петра Гринева?</td>\n",
       "      <td>В семье Петра Гринева было девять детей, но вс...</td>\n",
       "    </tr>\n",
       "    <tr>\n",
       "      <th>6</th>\n",
       "      <td>Кто воспитывал Петра Гринева?</td>\n",
       "      <td>Петра Гринева воспитывал дядька Савельич.</td>\n",
       "    </tr>\n",
       "    <tr>\n",
       "      <th>7</th>\n",
       "      <td>Сколько казаков попросил Гринев, чтобы очистит...</td>\n",
       "      <td>Гринев попросил полсотни казаков, чтобы очисти...</td>\n",
       "    </tr>\n",
       "    <tr>\n",
       "      <th>8</th>\n",
       "      <td>Как далеко находилась от города Белогорская кр...</td>\n",
       "      <td>Белогорская крепость находилась в 40 верст от ...</td>\n",
       "    </tr>\n",
       "    <tr>\n",
       "      <th>9</th>\n",
       "      <td>Как звали дочку коменданта?</td>\n",
       "      <td>Дочку коменданта звали Маша.</td>\n",
       "    </tr>\n",
       "    <tr>\n",
       "      <th>10</th>\n",
       "      <td>Что Петя подарил вожатому?</td>\n",
       "      <td>В предоставленном контексте нет информации о т...</td>\n",
       "    </tr>\n",
       "    <tr>\n",
       "      <th>11</th>\n",
       "      <td>Какое напутствие дал Петру отец?</td>\n",
       "      <td>Отец велит Петру беречь ему «платье снову, а ч...</td>\n",
       "    </tr>\n",
       "    <tr>\n",
       "      <th>12</th>\n",
       "      <td>Кого Пугачев оставил комендантом Белогорской к...</td>\n",
       "      <td>Пугачев оставил комендантом Белогорской крепос...</td>\n",
       "    </tr>\n",
       "    <tr>\n",
       "      <th>13</th>\n",
       "      <td>Почему Швабрина перевели в крепость?</td>\n",
       "      <td>Швабрина перевели в крепость за дуэль.</td>\n",
       "    </tr>\n",
       "    <tr>\n",
       "      <th>14</th>\n",
       "      <td>Кого просил пощадить Савельич у Пугачева?</td>\n",
       "      <td>Савельич просил пощадить Гринева у Пугачева.</td>\n",
       "    </tr>\n",
       "  </tbody>\n",
       "</table>\n",
       "</div>"
      ]
     },
     "execution_count": 27,
     "metadata": {},
     "output_type": "execute_result"
    }
   ],
   "execution_count": 27
  },
  {
   "metadata": {
    "ExecuteTime": {
     "end_time": "2025-04-12T12:50:32.661429Z",
     "start_time": "2025-04-12T12:50:32.640429Z"
    }
   },
   "cell_type": "code",
   "source": "doc1.to_csv('4_1_11_solution.csv', index=False)",
   "id": "ab7280360fb4f5d3",
   "outputs": [],
   "execution_count": 28
  },
  {
   "metadata": {},
   "cell_type": "code",
   "source": "  ",
   "id": "6d1d5dc7f8cb0025",
   "outputs": [],
   "execution_count": null
  }
 ],
 "metadata": {
  "kernelspec": {
   "display_name": "Python 3",
   "language": "python",
   "name": "python3"
  },
  "language_info": {
   "codemirror_mode": {
    "name": "ipython",
    "version": 2
   },
   "file_extension": ".py",
   "mimetype": "text/x-python",
   "name": "python",
   "nbconvert_exporter": "python",
   "pygments_lexer": "ipython2",
   "version": "2.7.6"
  }
 },
 "nbformat": 4,
 "nbformat_minor": 5
}
