{
 "cells": [
  {
   "metadata": {
    "ExecuteTime": {
     "end_time": "2025-03-11T14:33:03.929399Z",
     "start_time": "2025-03-11T14:33:03.882927Z"
    }
   },
   "cell_type": "code",
   "source": [
    "import codecs\n",
    "with codecs.open(\"../data/doc.txt\", \"r\", \"utf_8_sig\") as f:\n",
    "    doc = f.read()\n",
    "doc[:10000], len(doc)"
   ],
   "id": "aee659ad2936b488",
   "outputs": [
    {
     "data": {
      "text/plain": [
       "('text1 = \"\"\"\\r\\n1. Вступление\\r\\nОписание курса, начальные требования, для кого этот курс.\\r\\n1.1 Как правильно входить в курс\\r\\nЦели курса, канал и комьюнити, глоссарий, PET-проект, хард режим vs лайт режим?\\r\\n1.2 Общий подход и точки улучшения приложений с LLM\\r\\nРассказываем почему важно разбираться в LLM. Нужен ли ИИ обычному человеку?\\r\\n1.3 API ключ курса или от OpenAI?\\r\\n1.3.1 Ключ от команды курса\\r\\nПолучаем ключ в боте.\\r\\n1.3.2 Ключ от OpenAI\\r\\nПолучаем официальный ключ от OpenAI.\\r\\n1.3.3 Ключ от HuggingFace\\r\\nНыряем в Open Source и получаем ключ от HuggingFace.\\r\\n2. Промптинг - объясни LLM, что тебе от неё надо!\\r\\n2.1 Введение в Prompt Engineering\\r\\nПоясняем за промпты. Техники и лайфхаки для промптинга. Из чего состоит промпт?\\r\\n2.2 Дизайн промптов в LangChain\\r\\nFew-shot learning. Output Parser.\\r\\n2.2.1 Введение в LangChain\\r\\nРассказываем про преимущества LangChain.\\r\\n3. LangChain или причем тут попугаи?\\r\\n3.1 Память в LangChain\\r\\nПереводим LLM в чат-режим. Типы памяти.\\r\\n3.2 Chains - собери свою цепь\\r\\nChains & LCEL.\\r\\n3.3 Агенты intro\\r\\nАгенты и цепи. Инструменты (tools).\\r\\n\"\"\"\\r\\n\\r\\ntext2 = \"\"\"\\r\\n\\r\\n\\r\\n\"\"\"\\r\\n\\r\\ntext3 = \"\"\"\\r\\n1. Главный заголовок\\r\\nТут содержимое, которое нужно достать из главного заголовка.\\r\\n1.1 Подзаголовок\\r\\nТут содержимое, которое нужно достать из подзаголовка.\\r\\n\"\"\"\\r\\n\\r\\ntext4 = \"\"\"\\r\\n1. Первый заголовок\\r\\n\\r\\n2. Второй заголовок\\r\\n\"\"\"\\r\\n\\r\\ntext5 = \"\"\"\\r\\n1. Введение\\r\\nКраткое описание целей и задач документа.\\r\\n\\r\\n2. Основные разделы\\r\\nКраткий обзор основных разделов.\\r\\n\\r\\n2.1 Первый подраздел\\r\\nКакие-то мелкие детали.\\r\\n\\r\\n3. Заключение\\r\\nВыводы и заключительные комментарии.\\r\\n4. Приложения\\r\\nДополнительная информация и материалы.\\r\\n\"\"\"\\r\\n',\n",
       " 1633)"
      ]
     },
     "execution_count": 2,
     "metadata": {},
     "output_type": "execute_result"
    }
   ],
   "execution_count": 2
  },
  {
   "metadata": {
    "collapsed": true,
    "ExecuteTime": {
     "end_time": "2025-03-11T14:40:10.790466Z",
     "start_time": "2025-03-11T14:40:10.780467Z"
    }
   },
   "cell_type": "code",
   "source": [
    "from langchain.text_splitter import (\n",
    "    CharacterTextSplitter,\n",
    "    RecursiveCharacterTextSplitter,\n",
    ")\n",
    "\n",
    "splitter = RecursiveCharacterTextSplitter(\n",
    "    chunk_size=500,\n",
    "    chunk_overlap=100,\n",
    "    length_function=len,\n",
    ")\n",
    "split_documents = splitter.create_documents([doc])\n",
    "split_documents"
   ],
   "id": "initial_id",
   "outputs": [
    {
     "data": {
      "text/plain": [
       "[Document(metadata={}, page_content='text1 = \"\"\"\\r\\n1. Вступление\\r\\nОписание курса, начальные требования, для кого этот курс.\\r\\n1.1 Как правильно входить в курс\\r\\nЦели курса, канал и комьюнити, глоссарий, PET-проект, хард режим vs лайт режим?\\r\\n1.2 Общий подход и точки улучшения приложений с LLM\\r\\nРассказываем почему важно разбираться в LLM. Нужен ли ИИ обычному человеку?\\r\\n1.3 API ключ курса или от OpenAI?\\r\\n1.3.1 Ключ от команды курса\\r\\nПолучаем ключ в боте.\\r\\n1.3.2 Ключ от OpenAI\\r\\nПолучаем официальный ключ от OpenAI.'),\n",
       " Document(metadata={}, page_content='Получаем ключ в боте.\\r\\n1.3.2 Ключ от OpenAI\\r\\nПолучаем официальный ключ от OpenAI.\\r\\n1.3.3 Ключ от HuggingFace\\r\\nНыряем в Open Source и получаем ключ от HuggingFace.\\r\\n2. Промптинг - объясни LLM, что тебе от неё надо!\\r\\n2.1 Введение в Prompt Engineering\\r\\nПоясняем за промпты. Техники и лайфхаки для промптинга. Из чего состоит промпт?\\r\\n2.2 Дизайн промптов в LangChain\\r\\nFew-shot learning. Output Parser.\\r\\n2.2.1 Введение в LangChain\\r\\nРассказываем про преимущества LangChain.'),\n",
       " Document(metadata={}, page_content='2.2.1 Введение в LangChain\\r\\nРассказываем про преимущества LangChain.\\r\\n3. LangChain или причем тут попугаи?\\r\\n3.1 Память в LangChain\\r\\nПереводим LLM в чат-режим. Типы памяти.\\r\\n3.2 Chains - собери свою цепь\\r\\nChains & LCEL.\\r\\n3.3 Агенты intro\\r\\nАгенты и цепи. Инструменты (tools).\\r\\n\"\"\"\\r\\n\\r\\ntext2 = \"\"\"\\r\\n\\r\\n\\r\\n\"\"\"\\r\\n\\r\\ntext3 = \"\"\"\\r\\n1. Главный заголовок\\r\\nТут содержимое, которое нужно достать из главного заголовка.\\r\\n1.1 Подзаголовок\\r\\nТут содержимое, которое нужно достать из подзаголовка.\\r\\n\"\"\"\\r\\n\\r\\ntext4 = \"\"\"'),\n",
       " Document(metadata={}, page_content='1.1 Подзаголовок\\r\\nТут содержимое, которое нужно достать из подзаголовка.\\r\\n\"\"\"\\r\\n\\r\\ntext4 = \"\"\"\\r\\n1. Первый заголовок\\r\\n\\r\\n2. Второй заголовок\\r\\n\"\"\"\\r\\n\\r\\ntext5 = \"\"\"\\r\\n1. Введение\\r\\nКраткое описание целей и задач документа.\\r\\n\\r\\n2. Основные разделы\\r\\nКраткий обзор основных разделов.\\r\\n\\r\\n2.1 Первый подраздел\\r\\nКакие-то мелкие детали.\\r\\n\\r\\n3. Заключение\\r\\nВыводы и заключительные комментарии.\\r\\n4. Приложения\\r\\nДополнительная информация и материалы.\\r\\n\"\"\"')]"
      ]
     },
     "execution_count": 6,
     "metadata": {},
     "output_type": "execute_result"
    }
   ],
   "execution_count": 6
  },
  {
   "metadata": {},
   "cell_type": "code",
   "outputs": [],
   "execution_count": null,
   "source": [
    "# Если используете ключ курса, запустите эту ячейку\n",
    "from utils import OpenAIEmbeddings\n",
    "\n",
    "embeddings_api_model = OpenAIEmbeddings(course_api_key=course_api_key)"
   ],
   "id": "f917782fe684ba6"
  },
  {
   "metadata": {},
   "cell_type": "code",
   "outputs": [],
   "execution_count": null,
   "source": [
    "embeddings = embeddings_api_model.embed_documents(\n",
    "    [\n",
    "        \"Привет!\",\n",
    "        \"Hello World!\",\n",
    "        \"How are you?\",\n",
    "    ]\n",
    ")\n",
    "# Посмотрим размерность эмбеддингов\n",
    "print(len(embeddings), len(embeddings[0]), type(embeddings), type(embeddings[0]))\n",
    "embeddings[0][:5]"
   ],
   "id": "8ba1d4532486154a"
  }
 ],
 "metadata": {
  "kernelspec": {
   "display_name": "Python 3",
   "language": "python",
   "name": "python3"
  },
  "language_info": {
   "codemirror_mode": {
    "name": "ipython",
    "version": 2
   },
   "file_extension": ".py",
   "mimetype": "text/x-python",
   "name": "python",
   "nbconvert_exporter": "python",
   "pygments_lexer": "ipython2",
   "version": "2.7.6"
  }
 },
 "nbformat": 4,
 "nbformat_minor": 5
}
