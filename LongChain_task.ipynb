{
 "cells": [
  {
   "cell_type": "code",
   "id": "initial_id",
   "metadata": {
    "collapsed": true,
    "ExecuteTime": {
     "end_time": "2025-01-20T11:42:52.148955Z",
     "start_time": "2025-01-20T11:42:42.916511Z"
    }
   },
   "source": [
    "from utils import ChatOpenAI\n",
    "from getpass import getpass\n",
    "\n",
    "#course_api_key= \"Введите ваш API ключ с курса\"\n",
    "course_api_key = getpass(prompt='Введите API ключ')\n",
    "\n",
    "# Инициализируем языковую модель\n",
    "llm = ChatOpenAI(course_api_key=course_api_key)"
   ],
   "outputs": [],
   "execution_count": 1
  },
  {
   "metadata": {
    "ExecuteTime": {
     "end_time": "2025-01-20T12:22:30.541721Z",
     "start_time": "2025-01-20T12:22:30.305842Z"
    }
   },
   "cell_type": "code",
   "source": [
    "import pandas as pd\n",
    "from langchain import PromptTemplate\n",
    "from tqdm import tqdm\n",
    "\n",
    "df = pd.read_csv('https://stepik.org/media/attachments/lesson/1110806/100_crypto_messages.csv')\n",
    "\n",
    "df"
   ],
   "id": "5fbd702fbc7c3a4a",
   "outputs": [
    {
     "data": {
      "text/plain": [
       "    text_id                                               text\n",
       "0       143              Удаленная работа. От нас: Зп от 2500$\n",
       "1       179  Что вы думаете о концепции децентрализованных ...\n",
       "2       147  Удалённый заработок. Время 1-2часа в день. Мож...\n",
       "3       157  Меня всегда интересовал вопрос безопасности хр...\n",
       "4       168  Я слышал, что некоторые банки начали экспериме...\n",
       "..      ...                                                ...\n",
       "95      209  Работа в сфере криптовалютной журналистики или...\n",
       "96      200  Какие криптовалюты вы видите в будущем как осн...\n",
       "97      229  Исследование и анализ рынка криптовалют также ...\n",
       "98      101  Набираю людей в команду по межбиржевой торговл...\n",
       "99      161  Я слышал о проекте, который предоставляет кред...\n",
       "\n",
       "[100 rows x 2 columns]"
      ],
      "text/html": [
       "<div>\n",
       "<style scoped>\n",
       "    .dataframe tbody tr th:only-of-type {\n",
       "        vertical-align: middle;\n",
       "    }\n",
       "\n",
       "    .dataframe tbody tr th {\n",
       "        vertical-align: top;\n",
       "    }\n",
       "\n",
       "    .dataframe thead th {\n",
       "        text-align: right;\n",
       "    }\n",
       "</style>\n",
       "<table border=\"1\" class=\"dataframe\">\n",
       "  <thead>\n",
       "    <tr style=\"text-align: right;\">\n",
       "      <th></th>\n",
       "      <th>text_id</th>\n",
       "      <th>text</th>\n",
       "    </tr>\n",
       "  </thead>\n",
       "  <tbody>\n",
       "    <tr>\n",
       "      <th>0</th>\n",
       "      <td>143</td>\n",
       "      <td>Удаленная работа. От нас: Зп от 2500$</td>\n",
       "    </tr>\n",
       "    <tr>\n",
       "      <th>1</th>\n",
       "      <td>179</td>\n",
       "      <td>Что вы думаете о концепции децентрализованных ...</td>\n",
       "    </tr>\n",
       "    <tr>\n",
       "      <th>2</th>\n",
       "      <td>147</td>\n",
       "      <td>Удалённый заработок. Время 1-2часа в день. Мож...</td>\n",
       "    </tr>\n",
       "    <tr>\n",
       "      <th>3</th>\n",
       "      <td>157</td>\n",
       "      <td>Меня всегда интересовал вопрос безопасности хр...</td>\n",
       "    </tr>\n",
       "    <tr>\n",
       "      <th>4</th>\n",
       "      <td>168</td>\n",
       "      <td>Я слышал, что некоторые банки начали экспериме...</td>\n",
       "    </tr>\n",
       "    <tr>\n",
       "      <th>...</th>\n",
       "      <td>...</td>\n",
       "      <td>...</td>\n",
       "    </tr>\n",
       "    <tr>\n",
       "      <th>95</th>\n",
       "      <td>209</td>\n",
       "      <td>Работа в сфере криптовалютной журналистики или...</td>\n",
       "    </tr>\n",
       "    <tr>\n",
       "      <th>96</th>\n",
       "      <td>200</td>\n",
       "      <td>Какие криптовалюты вы видите в будущем как осн...</td>\n",
       "    </tr>\n",
       "    <tr>\n",
       "      <th>97</th>\n",
       "      <td>229</td>\n",
       "      <td>Исследование и анализ рынка криптовалют также ...</td>\n",
       "    </tr>\n",
       "    <tr>\n",
       "      <th>98</th>\n",
       "      <td>101</td>\n",
       "      <td>Набираю людей в команду по межбиржевой торговл...</td>\n",
       "    </tr>\n",
       "    <tr>\n",
       "      <th>99</th>\n",
       "      <td>161</td>\n",
       "      <td>Я слышал о проекте, который предоставляет кред...</td>\n",
       "    </tr>\n",
       "  </tbody>\n",
       "</table>\n",
       "<p>100 rows × 2 columns</p>\n",
       "</div>"
      ]
     },
     "execution_count": 15,
     "metadata": {},
     "output_type": "execute_result"
    }
   ],
   "execution_count": 15
  },
  {
   "metadata": {
    "ExecuteTime": {
     "end_time": "2025-01-20T12:43:25.317270Z",
     "start_time": "2025-01-20T12:42:25.931422Z"
    }
   },
   "cell_type": "code",
   "source": [
    "# Напишите промпт, указав инструкцию, запрос и выходной индикатор\n",
    "template = \"\"\"тематика сообщений криптовалюта. Опередели по содерданию является ли текст спамом\n",
    "\n",
    "Context: {text_input}\n",
    "\n",
    "Question:  Это спам?\n",
    "\n",
    "Answer: Если спам верни 1, если нет - верни 0. Ничего кроме цифр и записать эту информацию в столбец is_spam\n",
    "\n",
    "\"\"\"\n",
    "\n",
    "prompt_template = PromptTemplate(\n",
    "    input_variables=[\"text_input\"],\n",
    "    template=template\n",
    ")\n",
    "\n",
    "\n",
    "spam_labels = [] # Список, где будем хранить ответы модели\n",
    "\n",
    "for text_input in tqdm(df['text']):\n",
    "    prompt = prompt_template.format(text_input=text_input) # Добавляем сообщение в промпт\n",
    "    spam_label = llm.invoke(prompt).content # Сохраняем ответ модели\n",
    "    spam_labels.append(spam_label) # Добавляем ответ в список\n",
    "    # break # Для отладки. Уберите, когда убедитесь, что на одном примере работает\n",
    "    \n",
    "df['is_spam'] = spam_labels # Создаём новый столбец из ответов модели\n",
    "df.to_csv('2_2_7_solution.csv', index=False) # Сохраняем файл, отправляем на Stepik, получаем баллы :)"
   ],
   "id": "beacf233a72fb818",
   "outputs": [
    {
     "name": "stderr",
     "output_type": "stream",
     "text": [
      "100%|██████████| 100/100 [00:59<00:00,  1.68it/s]\n"
     ]
    }
   ],
   "execution_count": 19
  }
 ],
 "metadata": {
  "kernelspec": {
   "display_name": "Python 3",
   "language": "python",
   "name": "python3"
  },
  "language_info": {
   "codemirror_mode": {
    "name": "ipython",
    "version": 2
   },
   "file_extension": ".py",
   "mimetype": "text/x-python",
   "name": "python",
   "nbconvert_exporter": "python",
   "pygments_lexer": "ipython2",
   "version": "2.7.6"
  }
 },
 "nbformat": 4,
 "nbformat_minor": 5
}
