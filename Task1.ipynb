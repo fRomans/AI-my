{
 "cells": [
  {
   "cell_type": "code",
   "id": "initial_id",
   "metadata": {
    "collapsed": true,
    "ExecuteTime": {
     "end_time": "2025-01-19T13:24:58.865311Z",
     "start_time": "2025-01-19T13:24:44.469368Z"
    }
   },
   "source": [
    "from getpass import getpass\n",
    "from utils import ChatOpenAI\n",
    "\n",
    "#course_api_key= \"Введите API-ключ полученный в боте\"\n",
    "course_api_key = getpass(prompt='Введите API-ключ полученный в боте: ')\n",
    "\n",
    "\n",
    "# Инициализируем языковую модель\n",
    "llm = ChatOpenAI(temperature=0.0, course_api_key=course_api_key)"
   ],
   "outputs": [],
   "execution_count": 14
  },
  {
   "metadata": {
    "ExecuteTime": {
     "end_time": "2025-01-19T13:25:03.392344Z",
     "start_time": "2025-01-19T13:25:03.297363Z"
    }
   },
   "cell_type": "code",
   "source": [
    "import pandas as pd\n",
    "from tqdm import tqdm\n",
    "\n",
    "df = pd.read_csv('https://stepik.org/media/attachments/lesson/1084297/submission100lines.csv')\n",
    "df.head()"
   ],
   "id": "a5d33c426a460596",
   "outputs": [
    {
     "data": {
      "text/plain": [
       "   amount    text_id                                               text\n",
       "0       2   14205200  Сниму жилье. 500-600 рублей сутки. Эконом клас...\n",
       "1       6  319097075  ищем жилье в центре недалеко от моря с 23.07-0...\n",
       "2       4   98881311  Ищем жилье на период с 18-28июля..на две семьи...\n",
       "3       4   44587027  2 семьи по 3 человека (2 взрослых и ребенок) с...\n",
       "4       3  352802829  Сниму недорогое жилье в лазаревском на 6 чел 3..."
      ],
      "text/html": [
       "<div>\n",
       "<style scoped>\n",
       "    .dataframe tbody tr th:only-of-type {\n",
       "        vertical-align: middle;\n",
       "    }\n",
       "\n",
       "    .dataframe tbody tr th {\n",
       "        vertical-align: top;\n",
       "    }\n",
       "\n",
       "    .dataframe thead th {\n",
       "        text-align: right;\n",
       "    }\n",
       "</style>\n",
       "<table border=\"1\" class=\"dataframe\">\n",
       "  <thead>\n",
       "    <tr style=\"text-align: right;\">\n",
       "      <th></th>\n",
       "      <th>amount</th>\n",
       "      <th>text_id</th>\n",
       "      <th>text</th>\n",
       "    </tr>\n",
       "  </thead>\n",
       "  <tbody>\n",
       "    <tr>\n",
       "      <th>0</th>\n",
       "      <td>2</td>\n",
       "      <td>14205200</td>\n",
       "      <td>Сниму жилье. 500-600 рублей сутки. Эконом клас...</td>\n",
       "    </tr>\n",
       "    <tr>\n",
       "      <th>1</th>\n",
       "      <td>6</td>\n",
       "      <td>319097075</td>\n",
       "      <td>ищем жилье в центре недалеко от моря с 23.07-0...</td>\n",
       "    </tr>\n",
       "    <tr>\n",
       "      <th>2</th>\n",
       "      <td>4</td>\n",
       "      <td>98881311</td>\n",
       "      <td>Ищем жилье на период с 18-28июля..на две семьи...</td>\n",
       "    </tr>\n",
       "    <tr>\n",
       "      <th>3</th>\n",
       "      <td>4</td>\n",
       "      <td>44587027</td>\n",
       "      <td>2 семьи по 3 человека (2 взрослых и ребенок) с...</td>\n",
       "    </tr>\n",
       "    <tr>\n",
       "      <th>4</th>\n",
       "      <td>3</td>\n",
       "      <td>352802829</td>\n",
       "      <td>Сниму недорогое жилье в лазаревском на 6 чел 3...</td>\n",
       "    </tr>\n",
       "  </tbody>\n",
       "</table>\n",
       "</div>"
      ]
     },
     "execution_count": 15,
     "metadata": {},
     "output_type": "execute_result"
    }
   ],
   "execution_count": 15
  },
  {
   "metadata": {
    "ExecuteTime": {
     "end_time": "2025-01-20T11:55:26.887034Z",
     "start_time": "2025-01-20T11:55:26.396035Z"
    }
   },
   "cell_type": "code",
   "source": [
    "# Напишите шаблон промпта, указав инструкцию, вопрос и выходной индикатор\n",
    "\n",
    "import tiktoken\n",
    "\n",
    "prompt_template = \"\"\"основываясь на контексте df столбца text посчитать количество жильцов.\n",
    "\n",
    "Context: {text_input}\n",
    "\n",
    "Questions: How many people are going to live in the apartment?\n",
    "\n",
    "Answer: Return just a single number with no text. 0 or 1\n",
    "\"\"\"\n",
    "\n",
    "#                                       узнать количество используемых токенов\n",
    "# encoder_name = 'p50k_base'\n",
    "# tokenizer = tiktoken.get_encoding(encoder_name)\n",
    "# \n",
    "# len(tokenizer.encode(prompt_template))\n",
    "\n",
    "\n",
    "amount_list = [] # Список, где будем хранить ответы модели\n",
    "\n",
    "for text_input in tqdm(df['text']):\n",
    "    prompt = prompt_template.format(text_input=text_input) # Добавляем сообщение в промпт\n",
    "    amount = llm.invoke(prompt).content # Ответ модели\n",
    "    amount_list.append(amount) # Добавляем ответ в список\n",
    "    # break # Для отладки. Уберите, когда убедитесь, что на одном примере работает\n",
    "    \n",
    "    # перед записью ответа в датафрейм, проверьте какого типа ответы\n",
    "type(amount_list[0])\n",
    "\n",
    "# Чтобы система зачла ответы на Степике, надо перевести их в числа\n",
    "# Если не знаете как, спросите у ChatGPT)\n",
    "df['amount'] = amount_list # Создаём новый столбец из ответов модели\n",
    "\n",
    "df.to_csv('2_1_8_solution.csv', index=False) # Сохраняем файл, отправляем на Stepik, получаем баллы :)"
   ],
   "id": "a698d90b1323b481",
   "outputs": [
    {
     "ename": "NameError",
     "evalue": "name 'tqdm' is not defined",
     "output_type": "error",
     "traceback": [
      "\u001B[1;31m---------------------------------------------------------------------------\u001B[0m",
      "\u001B[1;31mNameError\u001B[0m                                 Traceback (most recent call last)",
      "Cell \u001B[1;32mIn[1], line 23\u001B[0m\n\u001B[0;32m     14\u001B[0m \u001B[38;5;66;03m#                                       узнать количество используемых токенов\u001B[39;00m\n\u001B[0;32m     15\u001B[0m \u001B[38;5;66;03m# encoder_name = 'p50k_base'\u001B[39;00m\n\u001B[0;32m     16\u001B[0m \u001B[38;5;66;03m# tokenizer = tiktoken.get_encoding(encoder_name)\u001B[39;00m\n\u001B[0;32m     17\u001B[0m \u001B[38;5;66;03m# \u001B[39;00m\n\u001B[0;32m     18\u001B[0m \u001B[38;5;66;03m# len(tokenizer.encode(prompt_template))\u001B[39;00m\n\u001B[0;32m     21\u001B[0m amount_list \u001B[38;5;241m=\u001B[39m [] \u001B[38;5;66;03m# Список, где будем хранить ответы модели\u001B[39;00m\n\u001B[1;32m---> 23\u001B[0m \u001B[38;5;28;01mfor\u001B[39;00m text_input \u001B[38;5;129;01min\u001B[39;00m \u001B[43mtqdm\u001B[49m(df[\u001B[38;5;124m'\u001B[39m\u001B[38;5;124mtext\u001B[39m\u001B[38;5;124m'\u001B[39m]):\n\u001B[0;32m     24\u001B[0m     prompt \u001B[38;5;241m=\u001B[39m prompt_template\u001B[38;5;241m.\u001B[39mformat(text_input\u001B[38;5;241m=\u001B[39mtext_input) \u001B[38;5;66;03m# Добавляем сообщение в промпт\u001B[39;00m\n\u001B[0;32m     25\u001B[0m     amount \u001B[38;5;241m=\u001B[39m llm\u001B[38;5;241m.\u001B[39minvoke(prompt)\u001B[38;5;241m.\u001B[39mcontent \u001B[38;5;66;03m# Ответ модели\u001B[39;00m\n",
      "\u001B[1;31mNameError\u001B[0m: name 'tqdm' is not defined"
     ]
    }
   ],
   "execution_count": 1
  },
  {
   "metadata": {},
   "cell_type": "code",
   "outputs": [],
   "execution_count": null,
   "source": "",
   "id": "b8bada4ea319363d"
  }
 ],
 "metadata": {
  "kernelspec": {
   "display_name": "Python 3",
   "language": "python",
   "name": "python3"
  },
  "language_info": {
   "codemirror_mode": {
    "name": "ipython",
    "version": 2
   },
   "file_extension": ".py",
   "mimetype": "text/x-python",
   "name": "python",
   "nbconvert_exporter": "python",
   "pygments_lexer": "ipython2",
   "version": "2.7.6"
  }
 },
 "nbformat": 4,
 "nbformat_minor": 5
}
